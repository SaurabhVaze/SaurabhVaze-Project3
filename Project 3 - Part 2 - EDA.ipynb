{
 "cells": [
  {
   "cell_type": "code",
   "execution_count": 32,
   "id": "fbe80f45",
   "metadata": {},
   "outputs": [],
   "source": [
    "import pandas as pd\n",
    "import matplotlib.pyplot as plt\n",
    "import seaborn as sns\n",
    "\n",
    "final_years = pd.read_csv('Data/tmdb_results_combined.csv.gz', low_memory = False)\n",
    "\n",
    "pd.set_option('display.float_format', lambda x: '%.3f' % x) #avoid scientific notation"
   ]
  },
  {
   "cell_type": "code",
   "execution_count": 33,
   "id": "5345bfc2",
   "metadata": {},
   "outputs": [
    {
     "name": "stdout",
     "output_type": "stream",
     "text": [
      "<class 'pandas.core.frame.DataFrame'>\n",
      "RangeIndex: 2492 entries, 0 to 2491\n",
      "Data columns (total 26 columns):\n",
      " #   Column                 Non-Null Count  Dtype  \n",
      "---  ------                 --------------  -----  \n",
      " 0   imdb_id                2492 non-null   object \n",
      " 1   adult                  2490 non-null   float64\n",
      " 2   backdrop_path          1290 non-null   object \n",
      " 3   belongs_to_collection  197 non-null    object \n",
      " 4   budget                 2490 non-null   float64\n",
      " 5   genres                 2490 non-null   object \n",
      " 6   homepage               174 non-null    object \n",
      " 7   id                     2490 non-null   float64\n",
      " 8   original_language      2490 non-null   object \n",
      " 9   original_title         2490 non-null   object \n",
      " 10  overview               2438 non-null   object \n",
      " 11  popularity             2490 non-null   float64\n",
      " 12  poster_path            2195 non-null   object \n",
      " 13  production_companies   2490 non-null   object \n",
      " 14  production_countries   2490 non-null   object \n",
      " 15  release_date           2471 non-null   object \n",
      " 16  revenue                2490 non-null   float64\n",
      " 17  runtime                2490 non-null   float64\n",
      " 18  spoken_languages       2490 non-null   object \n",
      " 19  status                 2490 non-null   object \n",
      " 20  tagline                1042 non-null   object \n",
      " 21  title                  2490 non-null   object \n",
      " 22  video                  2490 non-null   float64\n",
      " 23  vote_average           2490 non-null   float64\n",
      " 24  vote_count             2490 non-null   float64\n",
      " 25  certification          791 non-null    object \n",
      "dtypes: float64(9), object(17)\n",
      "memory usage: 506.3+ KB\n"
     ]
    }
   ],
   "source": [
    "final_years.info()\n",
    "\n",
    "\n"
   ]
  },
  {
   "cell_type": "code",
   "execution_count": 34,
   "id": "93ff8b18",
   "metadata": {},
   "outputs": [
    {
     "data": {
      "text/plain": [
       "1"
      ]
     },
     "execution_count": 34,
     "metadata": {},
     "output_type": "execute_result"
    }
   ],
   "source": [
    "final_years.duplicated().sum()"
   ]
  },
  {
   "cell_type": "code",
   "execution_count": 35,
   "id": "0303ae59",
   "metadata": {},
   "outputs": [],
   "source": [
    "final_years.drop_duplicates(inplace=True) #drop duplicates from the df"
   ]
  },
  {
   "cell_type": "markdown",
   "id": "ed7c3149",
   "metadata": {},
   "source": [
    "### Titles with financial information\n"
   ]
  },
  {
   "cell_type": "code",
   "execution_count": 36,
   "id": "28ee702d",
   "metadata": {},
   "outputs": [
    {
     "data": {
      "text/plain": [
       "revenue    433\n",
       "budget     535\n",
       "dtype: int64"
      ]
     },
     "execution_count": 36,
     "metadata": {},
     "output_type": "execute_result"
    }
   ],
   "source": [
    "(final_years[['revenue','budget']] > 0).sum()\n",
    "\n",
    "\n",
    "\n"
   ]
  },
  {
   "cell_type": "code",
   "execution_count": 37,
   "id": "4e00895e",
   "metadata": {},
   "outputs": [],
   "source": [
    "#don't count null or 0 values in budget or revenue columns\n",
    "final_years = final_years[final_years['budget'].notna()]\n",
    "final_years = final_years[final_years['revenue'].notna()]\n",
    "final_years = final_years[final_years['budget'] > 0]\n",
    "final_years = final_years[final_years['revenue'] > 0]"
   ]
  },
  {
   "cell_type": "markdown",
   "id": "b6b827f2",
   "metadata": {},
   "source": [
    "### Titles per Certification\n"
   ]
  },
  {
   "cell_type": "code",
   "execution_count": 38,
   "id": "79d288ec",
   "metadata": {},
   "outputs": [
    {
     "data": {
      "text/plain": [
       "R        140\n",
       "PG-13    117\n",
       "PG        29\n",
       "G         13\n",
       "NR         6\n",
       "Name: certification, dtype: int64"
      ]
     },
     "execution_count": 38,
     "metadata": {},
     "output_type": "execute_result"
    }
   ],
   "source": [
    "final_years['certification'].value_counts()\n",
    "\n"
   ]
  },
  {
   "cell_type": "code",
   "execution_count": 39,
   "id": "69f392b6",
   "metadata": {},
   "outputs": [],
   "source": [
    "final_years = final_years[final_years.certification != 'Unrated']\n",
    "final_years = final_years[final_years.certification != '-']"
   ]
  },
  {
   "cell_type": "code",
   "execution_count": 40,
   "id": "79f58d85",
   "metadata": {},
   "outputs": [
    {
     "data": {
      "text/plain": [
       "R        140\n",
       "PG-13    117\n",
       "PG        29\n",
       "G         13\n",
       "NR         6\n",
       "Name: certification, dtype: int64"
      ]
     },
     "execution_count": 40,
     "metadata": {},
     "output_type": "execute_result"
    }
   ],
   "source": [
    "final_years['certification'].value_counts()\n"
   ]
  },
  {
   "cell_type": "markdown",
   "id": "c9e908b3",
   "metadata": {},
   "source": [
    "### Revenue by Certification\n"
   ]
  },
  {
   "cell_type": "code",
   "execution_count": 41,
   "id": "d10468b6",
   "metadata": {},
   "outputs": [
    {
     "data": {
      "text/plain": [
       "certification\n",
       "G       133216881.692\n",
       "NR       23823316.000\n",
       "PG      134613828.034\n",
       "PG-13   110712060.256\n",
       "R        53446539.321\n",
       "Name: revenue, dtype: float64"
      ]
     },
     "execution_count": 41,
     "metadata": {},
     "output_type": "execute_result"
    }
   ],
   "source": [
    "final_years.groupby('certification')['revenue'].mean()"
   ]
  },
  {
   "cell_type": "code",
   "execution_count": 46,
   "id": "97ccad09",
   "metadata": {},
   "outputs": [
    {
     "name": "stderr",
     "output_type": "stream",
     "text": [
      "C:\\Users\\svaze\\anaconda3\\envs\\dojo-env\\lib\\site-packages\\seaborn\\_decorators.py:36: FutureWarning: Pass the following variables as keyword args: x, y. From version 0.12, the only valid positional argument will be `data`, and passing other arguments without an explicit keyword will result in an error or misinterpretation.\n",
      "  warnings.warn(\n"
     ]
    },
    {
     "data": {
      "text/plain": [
       "Text(0.5, 1.0, 'Revenue by Certfication (x10^7)')"
      ]
     },
     "execution_count": 46,
     "metadata": {},
     "output_type": "execute_result"
    },
    {
     "data": {
      "image/png": "[encoded data removed]",
      "text/plain": [
       "<Figure size 432x288 with 1 Axes>"
      ]
     },
     "metadata": {
      "needs_background": "light"
     },
     "output_type": "display_data"
    }
   ],
   "source": [
    "sns.barplot(final_years['certification'], final_years['revenue'])\n",
    "plt.title('Revenue by Certfication (x10^7)')"
   ]
  },
  {
   "cell_type": "markdown",
   "id": "db325c6a",
   "metadata": {},
   "source": [
    "### Budget by Certification\n"
   ]
  },
  {
   "cell_type": "code",
   "execution_count": 42,
   "id": "869a236b",
   "metadata": {},
   "outputs": [
    {
     "data": {
      "text/plain": [
       "certification\n",
       "G       44000000.000\n",
       "NR      14783333.333\n",
       "PG      53741379.621\n",
       "PG-13   46806815.274\n",
       "R       27502553.893\n",
       "Name: budget, dtype: float64"
      ]
     },
     "execution_count": 42,
     "metadata": {},
     "output_type": "execute_result"
    }
   ],
   "source": [
    "final_years.groupby('certification')['budget'].mean()"
   ]
  },
  {
   "cell_type": "code",
   "execution_count": 45,
   "id": "5c5594d9",
   "metadata": {},
   "outputs": [
    {
     "name": "stderr",
     "output_type": "stream",
     "text": [
      "C:\\Users\\svaze\\anaconda3\\envs\\dojo-env\\lib\\site-packages\\seaborn\\_decorators.py:36: FutureWarning: Pass the following variables as keyword args: x, y. From version 0.12, the only valid positional argument will be `data`, and passing other arguments without an explicit keyword will result in an error or misinterpretation.\n",
      "  warnings.warn(\n"
     ]
    },
    {
     "data": {
      "text/plain": [
       "Text(0.5, 1.0, 'Budget by Certfication (x10^7)')"
      ]
     },
     "execution_count": 45,
     "metadata": {},
     "output_type": "execute_result"
    },
    {
     "data": {
      "image/png": "[encoded data removed]",
      "text/plain": [
       "<Figure size 432x288 with 1 Axes>"
      ]
     },
     "metadata": {
      "needs_background": "light"
     },
     "output_type": "display_data"
    }
   ],
   "source": [
    "sns.barplot(final_years['certification'], final_years['budget'])\n",
    "plt.title('Budget by Certfication (x10^7)')"
   ]
  },
  {
   "cell_type": "code",
   "execution_count": null,
   "id": "d5b16ddc",
   "metadata": {},
   "outputs": [],
   "source": []
  }
 ],
 "metadata": {
  "kernelspec": {
   "display_name": "Python (dojo-env)",
   "language": "python",
   "name": "dojo-env"
  },
  "language_info": {
   "codemirror_mode": {
    "name": "ipython",
    "version": 3
   },
   "file_extension": ".py",
   "mimetype": "text/x-python",
   "name": "python",
   "nbconvert_exporter": "python",
   "pygments_lexer": "ipython3",
   "version": "3.8.13"
  },
  "toc": {
   "base_numbering": 1,
   "nav_menu": {},
   "number_sections": true,
   "sideBar": true,
   "skip_h1_title": false,
   "title_cell": "Table of Contents",
   "title_sidebar": "Contents",
   "toc_cell": false,
   "toc_position": {},
   "toc_section_display": true,
   "toc_window_display": false
  }
 },
 "nbformat": 4,
 "nbformat_minor": 5
}
