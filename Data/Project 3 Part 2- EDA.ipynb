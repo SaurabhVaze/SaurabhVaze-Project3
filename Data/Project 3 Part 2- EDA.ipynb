{
 "cells": [
  {
   "cell_type": "code",
   "execution_count": 6,
   "id": "1c870200",
   "metadata": {},
   "outputs": [],
   "source": [
    "import pandas as pd\n",
    "final_years = pd.read_csv('tmdb_results_combined.csv.gz', low_memory = False)\n",
    "\n"
   ]
  },
  {
   "cell_type": "code",
   "execution_count": 7,
   "id": "a1876c92",
   "metadata": {},
   "outputs": [
    {
     "name": "stdout",
     "output_type": "stream",
     "text": [
      "<class 'pandas.core.frame.DataFrame'>\n",
      "RangeIndex: 2492 entries, 0 to 2491\n",
      "Data columns (total 26 columns):\n",
      " #   Column                 Non-Null Count  Dtype  \n",
      "---  ------                 --------------  -----  \n",
      " 0   imdb_id                2492 non-null   object \n",
      " 1   adult                  2490 non-null   float64\n",
      " 2   backdrop_path          1290 non-null   object \n",
      " 3   belongs_to_collection  197 non-null    object \n",
      " 4   budget                 2490 non-null   float64\n",
      " 5   genres                 2490 non-null   object \n",
      " 6   homepage               174 non-null    object \n",
      " 7   id                     2490 non-null   float64\n",
      " 8   original_language      2490 non-null   object \n",
      " 9   original_title         2490 non-null   object \n",
      " 10  overview               2438 non-null   object \n",
      " 11  popularity             2490 non-null   float64\n",
      " 12  poster_path            2195 non-null   object \n",
      " 13  production_companies   2490 non-null   object \n",
      " 14  production_countries   2490 non-null   object \n",
      " 15  release_date           2471 non-null   object \n",
      " 16  revenue                2490 non-null   float64\n",
      " 17  runtime                2490 non-null   float64\n",
      " 18  spoken_languages       2490 non-null   object \n",
      " 19  status                 2490 non-null   object \n",
      " 20  tagline                1042 non-null   object \n",
      " 21  title                  2490 non-null   object \n",
      " 22  video                  2490 non-null   float64\n",
      " 23  vote_average           2490 non-null   float64\n",
      " 24  vote_count             2490 non-null   float64\n",
      " 25  certification          791 non-null    object \n",
      "dtypes: float64(9), object(17)\n",
      "memory usage: 506.3+ KB\n"
     ]
    }
   ],
   "source": [
    "final_years.info()\n",
    "\n",
    "\n"
   ]
  },
  {
   "cell_type": "markdown",
   "id": "66068820",
   "metadata": {},
   "source": [
    "### Titles with financial information\n"
   ]
  },
  {
   "cell_type": "code",
   "execution_count": 8,
   "id": "1bd63ad3",
   "metadata": {},
   "outputs": [
    {
     "data": {
      "text/plain": [
       "revenue    433\n",
       "budget     535\n",
       "dtype: int64"
      ]
     },
     "execution_count": 8,
     "metadata": {},
     "output_type": "execute_result"
    }
   ],
   "source": [
    "(final_years[['revenue','budget']] > 0).sum()\n",
    "\n",
    "\n",
    "\n"
   ]
  },
  {
   "cell_type": "markdown",
   "id": "d2c39425",
   "metadata": {},
   "source": [
    "### Titles per Certification\n"
   ]
  },
  {
   "cell_type": "code",
   "execution_count": 9,
   "id": "d9f040a3",
   "metadata": {},
   "outputs": [
    {
     "data": {
      "text/plain": [
       "R          451\n",
       "PG-13      180\n",
       "NR          66\n",
       "PG          62\n",
       "G           24\n",
       "NC-17        6\n",
       "Unrated      1\n",
       "-            1\n",
       "Name: certification, dtype: int64"
      ]
     },
     "execution_count": 9,
     "metadata": {},
     "output_type": "execute_result"
    }
   ],
   "source": [
    "final_years['certification'].value_counts()\n",
    "\n"
   ]
  },
  {
   "cell_type": "markdown",
   "id": "68218069",
   "metadata": {},
   "source": [
    "### Revenue by Certification\n"
   ]
  },
  {
   "cell_type": "code",
   "execution_count": 10,
   "id": "4b7bfcaa",
   "metadata": {},
   "outputs": [
    {
     "data": {
      "text/plain": [
       "certification\n",
       "-          0.000000e+00\n",
       "G          7.216332e+07\n",
       "NC-17      0.000000e+00\n",
       "NR         2.289235e+06\n",
       "PG         6.341653e+07\n",
       "PG-13      7.200616e+07\n",
       "R          1.678398e+07\n",
       "Unrated    0.000000e+00\n",
       "Name: revenue, dtype: float64"
      ]
     },
     "execution_count": 10,
     "metadata": {},
     "output_type": "execute_result"
    }
   ],
   "source": [
    "final_years.groupby('certification')['revenue'].mean()\n",
    "\n"
   ]
  },
  {
   "cell_type": "markdown",
   "id": "72131293",
   "metadata": {},
   "source": [
    "### Budget by Certification\n"
   ]
  },
  {
   "cell_type": "code",
   "execution_count": 11,
   "id": "f66487b4",
   "metadata": {},
   "outputs": [
    {
     "data": {
      "text/plain": [
       "certification\n",
       "-          0.000000e+00\n",
       "G          2.383333e+07\n",
       "NC-17      0.000000e+00\n",
       "NR         1.622729e+06\n",
       "PG         2.539113e+07\n",
       "PG-13      3.140504e+07\n",
       "R          1.013270e+07\n",
       "Unrated    0.000000e+00\n",
       "Name: budget, dtype: float64"
      ]
     },
     "execution_count": 11,
     "metadata": {},
     "output_type": "execute_result"
    }
   ],
   "source": [
    "final_years.groupby('certification')['budget'].mean()"
   ]
  },
  {
   "cell_type": "code",
   "execution_count": null,
   "id": "62f70dd7",
   "metadata": {},
   "outputs": [],
   "source": []
  }
 ],
 "metadata": {
  "kernelspec": {
   "display_name": "Python (dojo-env)",
   "language": "python",
   "name": "dojo-env"
  },
  "language_info": {
   "codemirror_mode": {
    "name": "ipython",
    "version": 3
   },
   "file_extension": ".py",
   "mimetype": "text/x-python",
   "name": "python",
   "nbconvert_exporter": "python",
   "pygments_lexer": "ipython3",
   "version": "3.8.13"
  },
  "toc": {
   "base_numbering": 1,
   "nav_menu": {},
   "number_sections": true,
   "sideBar": true,
   "skip_h1_title": false,
   "title_cell": "Table of Contents",
   "title_sidebar": "Contents",
   "toc_cell": false,
   "toc_position": {},
   "toc_section_display": true,
   "toc_window_display": false
  }
 },
 "nbformat": 4,
 "nbformat_minor": 5
}
