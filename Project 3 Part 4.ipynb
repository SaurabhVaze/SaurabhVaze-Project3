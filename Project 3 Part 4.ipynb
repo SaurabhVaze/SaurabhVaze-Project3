{
 "cells": [
  {
   "cell_type": "code",
   "execution_count": 54,
   "id": "efaaa922",
   "metadata": {},
   "outputs": [],
   "source": [
    "import pandas as pd\n",
    "import numpy as np\n",
    "import seaborn as sns\n",
    "import scipy.stats as stats\n",
    "import os, time,json\n",
    "import tmdbsimple as tmdb \n",
    "from statsmodels.stats.multicomp import pairwise_tukeyhsd\n",
    "\n",
    "from tqdm.notebook import tqdm_notebook"
   ]
  },
  {
   "cell_type": "code",
   "execution_count": 34,
   "id": "a19cafc1",
   "metadata": {},
   "outputs": [],
   "source": [
    "basics_url = 'https://datasets.imdbws.com/title.basics.tsv.gz'\n",
    "aka_url ='https://datasets.imdbws.com/title.akas.tsv.gz'\n",
    "rating_url='https://datasets.imdbws.com/title.ratings.tsv.gz'"
   ]
  },
  {
   "cell_type": "code",
   "execution_count": null,
   "id": "84a2254e",
   "metadata": {},
   "outputs": [],
   "source": [
    "basics = pd.read_csv(basics_url,sep='\\t', low_memory=False)\n",
    "akas = pd.read_csv(aka_url,sep='\\t', low_memory=False)\n",
    "ratings = pd.read_csv(rating_url,sep='\\t', low_memory=False)"
   ]
  },
  {
   "cell_type": "code",
   "execution_count": null,
   "id": "493c94f1",
   "metadata": {},
   "outputs": [],
   "source": [
    "basics=basics.replace({'\\\\N':np.nan}) #replace with usable null format\n",
    "akas=akas.replace({'\\\\N':np.nan})\n",
    "ratings=ratings.replace({'\\\\N':np.nan})\n"
   ]
  },
  {
   "cell_type": "code",
   "execution_count": null,
   "id": "d5901394",
   "metadata": {},
   "outputs": [],
   "source": [
    "basics.head()"
   ]
  },
  {
   "cell_type": "code",
   "execution_count": null,
   "id": "eb36a667",
   "metadata": {},
   "outputs": [],
   "source": [
    "basics=basics.dropna(subset=['runtimeMinutes']) #drop nulls in runtime"
   ]
  },
  {
   "cell_type": "code",
   "execution_count": null,
   "id": "dae4390e",
   "metadata": {},
   "outputs": [],
   "source": [
    "basics=basics.dropna(subset=['genres']) #drop nulls in genres"
   ]
  },
  {
   "cell_type": "code",
   "execution_count": null,
   "id": "c8d35c21",
   "metadata": {},
   "outputs": [],
   "source": [
    "documentary = basics['genres'].str.contains('documentary',case=False) #drop documentaries\n",
    "basics = basics[~documentary]"
   ]
  },
  {
   "cell_type": "code",
   "execution_count": null,
   "id": "1afbc021",
   "metadata": {},
   "outputs": [],
   "source": [
    "basics=basics.loc[basics['titleType'] == 'movie'] #limit output to only movies"
   ]
  },
  {
   "cell_type": "code",
   "execution_count": null,
   "id": "a3af9493",
   "metadata": {},
   "outputs": [],
   "source": [
    "basics['startYear']=basics['startYear'].replace({np.nan:0}) #disregard null values\n",
    "basics['startYear']=basics['startYear'].astype(object).astype(int) #convert object to int\n",
    "basics=basics.loc[basics['startYear'].between(2000,2022)] "
   ]
  },
  {
   "cell_type": "code",
   "execution_count": null,
   "id": "23752e45",
   "metadata": {},
   "outputs": [],
   "source": [
    "akas.head()"
   ]
  },
  {
   "cell_type": "code",
   "execution_count": null,
   "id": "dc60c652",
   "metadata": {},
   "outputs": [],
   "source": [
    "akas=akas.loc[akas['region'] == 'US'] #keep only US titles"
   ]
  },
  {
   "cell_type": "code",
   "execution_count": null,
   "id": "7f3e0d74",
   "metadata": {},
   "outputs": [],
   "source": [
    "akas.head()"
   ]
  },
  {
   "cell_type": "code",
   "execution_count": null,
   "id": "f7d72895",
   "metadata": {},
   "outputs": [],
   "source": [
    "# Filter the basics table down to only include the US by using the filter akas dataframe\n",
    "keepers =basics['tconst'].isin(akas['titleId'])\n",
    "keepers\n",
    "\n"
   ]
  },
  {
   "cell_type": "code",
   "execution_count": null,
   "id": "bf05b0a4",
   "metadata": {},
   "outputs": [],
   "source": [
    "basics = basics[keepers]\n",
    "basics\n",
    "\n"
   ]
  },
  {
   "cell_type": "code",
   "execution_count": null,
   "id": "51d5a23a",
   "metadata": {},
   "outputs": [],
   "source": [
    "keepers_rating =ratings['tconst'].isin(akas['titleId'])\n",
    "ratings = ratings[keepers_rating]\n"
   ]
  },
  {
   "cell_type": "code",
   "execution_count": null,
   "id": "f7d82598",
   "metadata": {},
   "outputs": [],
   "source": []
  },
  {
   "cell_type": "code",
   "execution_count": null,
   "id": "b598fa2f",
   "metadata": {},
   "outputs": [],
   "source": [
    "# example making new folder with os\n",
    "os.makedirs('Data/',exist_ok=True) \n",
    "# Confirm folder created\n",
    "os.listdir(\"Data/\")"
   ]
  },
  {
   "cell_type": "code",
   "execution_count": null,
   "id": "511446d2",
   "metadata": {},
   "outputs": [],
   "source": [
    "basics.to_csv(\"Data/title_basics_resubmit.csv.gz\",compression='gzip',index=False)\n"
   ]
  },
  {
   "cell_type": "code",
   "execution_count": 2,
   "id": "6e438f38",
   "metadata": {
    "scrolled": true
   },
   "outputs": [
    {
     "data": {
      "text/html": [
       "<div>\n",
       "<style scoped>\n",
       "    .dataframe tbody tr th:only-of-type {\n",
       "        vertical-align: middle;\n",
       "    }\n",
       "\n",
       "    .dataframe tbody tr th {\n",
       "        vertical-align: top;\n",
       "    }\n",
       "\n",
       "    .dataframe thead th {\n",
       "        text-align: right;\n",
       "    }\n",
       "</style>\n",
       "<table border=\"1\" class=\"dataframe\">\n",
       "  <thead>\n",
       "    <tr style=\"text-align: right;\">\n",
       "      <th></th>\n",
       "      <th>tconst</th>\n",
       "      <th>titleType</th>\n",
       "      <th>primaryTitle</th>\n",
       "      <th>originalTitle</th>\n",
       "      <th>isAdult</th>\n",
       "      <th>startYear</th>\n",
       "      <th>endYear</th>\n",
       "      <th>runtimeMinutes</th>\n",
       "      <th>genres</th>\n",
       "    </tr>\n",
       "  </thead>\n",
       "  <tbody>\n",
       "    <tr>\n",
       "      <th>0</th>\n",
       "      <td>tt0035423</td>\n",
       "      <td>movie</td>\n",
       "      <td>Kate &amp; Leopold</td>\n",
       "      <td>Kate &amp; Leopold</td>\n",
       "      <td>0</td>\n",
       "      <td>2001</td>\n",
       "      <td>NaN</td>\n",
       "      <td>118</td>\n",
       "      <td>Comedy,Fantasy,Romance</td>\n",
       "    </tr>\n",
       "    <tr>\n",
       "      <th>1</th>\n",
       "      <td>tt0062336</td>\n",
       "      <td>movie</td>\n",
       "      <td>The Tango of the Widower and Its Distorting Mi...</td>\n",
       "      <td>El Tango del Viudo y Su Espejo Deformante</td>\n",
       "      <td>0</td>\n",
       "      <td>2020</td>\n",
       "      <td>NaN</td>\n",
       "      <td>70</td>\n",
       "      <td>Drama</td>\n",
       "    </tr>\n",
       "    <tr>\n",
       "      <th>2</th>\n",
       "      <td>tt0069049</td>\n",
       "      <td>movie</td>\n",
       "      <td>The Other Side of the Wind</td>\n",
       "      <td>The Other Side of the Wind</td>\n",
       "      <td>0</td>\n",
       "      <td>2018</td>\n",
       "      <td>NaN</td>\n",
       "      <td>122</td>\n",
       "      <td>Drama</td>\n",
       "    </tr>\n",
       "    <tr>\n",
       "      <th>3</th>\n",
       "      <td>tt0088751</td>\n",
       "      <td>movie</td>\n",
       "      <td>The Naked Monster</td>\n",
       "      <td>The Naked Monster</td>\n",
       "      <td>0</td>\n",
       "      <td>2005</td>\n",
       "      <td>NaN</td>\n",
       "      <td>100</td>\n",
       "      <td>Comedy,Horror,Sci-Fi</td>\n",
       "    </tr>\n",
       "    <tr>\n",
       "      <th>4</th>\n",
       "      <td>tt0094859</td>\n",
       "      <td>movie</td>\n",
       "      <td>Chief Zabu</td>\n",
       "      <td>Chief Zabu</td>\n",
       "      <td>0</td>\n",
       "      <td>2016</td>\n",
       "      <td>NaN</td>\n",
       "      <td>74</td>\n",
       "      <td>Comedy</td>\n",
       "    </tr>\n",
       "  </tbody>\n",
       "</table>\n",
       "</div>"
      ],
      "text/plain": [
       "      tconst titleType                                       primaryTitle  \\\n",
       "0  tt0035423     movie                                     Kate & Leopold   \n",
       "1  tt0062336     movie  The Tango of the Widower and Its Distorting Mi...   \n",
       "2  tt0069049     movie                         The Other Side of the Wind   \n",
       "3  tt0088751     movie                                  The Naked Monster   \n",
       "4  tt0094859     movie                                         Chief Zabu   \n",
       "\n",
       "                               originalTitle  isAdult  startYear  endYear  \\\n",
       "0                             Kate & Leopold        0       2001      NaN   \n",
       "1  El Tango del Viudo y Su Espejo Deformante        0       2020      NaN   \n",
       "2                 The Other Side of the Wind        0       2018      NaN   \n",
       "3                          The Naked Monster        0       2005      NaN   \n",
       "4                                 Chief Zabu        0       2016      NaN   \n",
       "\n",
       "   runtimeMinutes                  genres  \n",
       "0             118  Comedy,Fantasy,Romance  \n",
       "1              70                   Drama  \n",
       "2             122                   Drama  \n",
       "3             100    Comedy,Horror,Sci-Fi  \n",
       "4              74                  Comedy  "
      ]
     },
     "execution_count": 2,
     "metadata": {},
     "output_type": "execute_result"
    }
   ],
   "source": [
    "# Open saved file and preview again\n",
    "basics = pd.read_csv(\"Data/title_basics_resubmit.csv.gz\", low_memory = False)\n",
    "basics.head()\n",
    "\n"
   ]
  },
  {
   "cell_type": "code",
   "execution_count": 3,
   "id": "3a83ff5e",
   "metadata": {},
   "outputs": [],
   "source": [
    "#akas.to_csv(\"Data/akas_resubmit.csv.gz\",compression='gzip',index=False)\n",
    "\n",
    "\n"
   ]
  },
  {
   "cell_type": "code",
   "execution_count": 4,
   "id": "4c4e74be",
   "metadata": {},
   "outputs": [
    {
     "data": {
      "text/html": [
       "<div>\n",
       "<style scoped>\n",
       "    .dataframe tbody tr th:only-of-type {\n",
       "        vertical-align: middle;\n",
       "    }\n",
       "\n",
       "    .dataframe tbody tr th {\n",
       "        vertical-align: top;\n",
       "    }\n",
       "\n",
       "    .dataframe thead th {\n",
       "        text-align: right;\n",
       "    }\n",
       "</style>\n",
       "<table border=\"1\" class=\"dataframe\">\n",
       "  <thead>\n",
       "    <tr style=\"text-align: right;\">\n",
       "      <th></th>\n",
       "      <th>titleId</th>\n",
       "      <th>ordering</th>\n",
       "      <th>title</th>\n",
       "      <th>region</th>\n",
       "      <th>language</th>\n",
       "      <th>types</th>\n",
       "      <th>attributes</th>\n",
       "      <th>isOriginalTitle</th>\n",
       "    </tr>\n",
       "  </thead>\n",
       "  <tbody>\n",
       "    <tr>\n",
       "      <th>0</th>\n",
       "      <td>tt0000001</td>\n",
       "      <td>6</td>\n",
       "      <td>Carmencita</td>\n",
       "      <td>US</td>\n",
       "      <td>NaN</td>\n",
       "      <td>imdbDisplay</td>\n",
       "      <td>NaN</td>\n",
       "      <td>0.0</td>\n",
       "    </tr>\n",
       "    <tr>\n",
       "      <th>1</th>\n",
       "      <td>tt0000002</td>\n",
       "      <td>7</td>\n",
       "      <td>The Clown and His Dogs</td>\n",
       "      <td>US</td>\n",
       "      <td>NaN</td>\n",
       "      <td>NaN</td>\n",
       "      <td>literal English title</td>\n",
       "      <td>0.0</td>\n",
       "    </tr>\n",
       "    <tr>\n",
       "      <th>2</th>\n",
       "      <td>tt0000005</td>\n",
       "      <td>10</td>\n",
       "      <td>Blacksmith Scene</td>\n",
       "      <td>US</td>\n",
       "      <td>NaN</td>\n",
       "      <td>imdbDisplay</td>\n",
       "      <td>NaN</td>\n",
       "      <td>0.0</td>\n",
       "    </tr>\n",
       "    <tr>\n",
       "      <th>3</th>\n",
       "      <td>tt0000005</td>\n",
       "      <td>1</td>\n",
       "      <td>Blacksmithing Scene</td>\n",
       "      <td>US</td>\n",
       "      <td>NaN</td>\n",
       "      <td>alternative</td>\n",
       "      <td>NaN</td>\n",
       "      <td>0.0</td>\n",
       "    </tr>\n",
       "    <tr>\n",
       "      <th>4</th>\n",
       "      <td>tt0000005</td>\n",
       "      <td>6</td>\n",
       "      <td>Blacksmith Scene #1</td>\n",
       "      <td>US</td>\n",
       "      <td>NaN</td>\n",
       "      <td>alternative</td>\n",
       "      <td>NaN</td>\n",
       "      <td>0.0</td>\n",
       "    </tr>\n",
       "  </tbody>\n",
       "</table>\n",
       "</div>"
      ],
      "text/plain": [
       "     titleId  ordering                   title region language        types  \\\n",
       "0  tt0000001         6              Carmencita     US      NaN  imdbDisplay   \n",
       "1  tt0000002         7  The Clown and His Dogs     US      NaN          NaN   \n",
       "2  tt0000005        10        Blacksmith Scene     US      NaN  imdbDisplay   \n",
       "3  tt0000005         1     Blacksmithing Scene     US      NaN  alternative   \n",
       "4  tt0000005         6     Blacksmith Scene #1     US      NaN  alternative   \n",
       "\n",
       "              attributes  isOriginalTitle  \n",
       "0                    NaN              0.0  \n",
       "1  literal English title              0.0  \n",
       "2                    NaN              0.0  \n",
       "3                    NaN              0.0  \n",
       "4                    NaN              0.0  "
      ]
     },
     "execution_count": 4,
     "metadata": {},
     "output_type": "execute_result"
    }
   ],
   "source": [
    "akas = pd.read_csv(\"Data/akas_resubmit.csv.gz\", low_memory = False)\n",
    "akas.head()"
   ]
  },
  {
   "cell_type": "code",
   "execution_count": 5,
   "id": "79954a7e",
   "metadata": {},
   "outputs": [],
   "source": [
    "#ratings.to_csv(\"Data/ratings_resubmit.csv.gz\",compression='gzip',index=False)\n",
    "\n",
    "\n"
   ]
  },
  {
   "cell_type": "code",
   "execution_count": 6,
   "id": "b91070c7",
   "metadata": {},
   "outputs": [
    {
     "data": {
      "text/html": [
       "<div>\n",
       "<style scoped>\n",
       "    .dataframe tbody tr th:only-of-type {\n",
       "        vertical-align: middle;\n",
       "    }\n",
       "\n",
       "    .dataframe tbody tr th {\n",
       "        vertical-align: top;\n",
       "    }\n",
       "\n",
       "    .dataframe thead th {\n",
       "        text-align: right;\n",
       "    }\n",
       "</style>\n",
       "<table border=\"1\" class=\"dataframe\">\n",
       "  <thead>\n",
       "    <tr style=\"text-align: right;\">\n",
       "      <th></th>\n",
       "      <th>tconst</th>\n",
       "      <th>averageRating</th>\n",
       "      <th>numVotes</th>\n",
       "    </tr>\n",
       "  </thead>\n",
       "  <tbody>\n",
       "    <tr>\n",
       "      <th>0</th>\n",
       "      <td>tt0000001</td>\n",
       "      <td>5.7</td>\n",
       "      <td>1905</td>\n",
       "    </tr>\n",
       "    <tr>\n",
       "      <th>1</th>\n",
       "      <td>tt0000002</td>\n",
       "      <td>5.8</td>\n",
       "      <td>256</td>\n",
       "    </tr>\n",
       "    <tr>\n",
       "      <th>2</th>\n",
       "      <td>tt0000005</td>\n",
       "      <td>6.2</td>\n",
       "      <td>2518</td>\n",
       "    </tr>\n",
       "    <tr>\n",
       "      <th>3</th>\n",
       "      <td>tt0000006</td>\n",
       "      <td>5.1</td>\n",
       "      <td>173</td>\n",
       "    </tr>\n",
       "    <tr>\n",
       "      <th>4</th>\n",
       "      <td>tt0000007</td>\n",
       "      <td>5.4</td>\n",
       "      <td>783</td>\n",
       "    </tr>\n",
       "  </tbody>\n",
       "</table>\n",
       "</div>"
      ],
      "text/plain": [
       "      tconst  averageRating  numVotes\n",
       "0  tt0000001            5.7      1905\n",
       "1  tt0000002            5.8       256\n",
       "2  tt0000005            6.2      2518\n",
       "3  tt0000006            5.1       173\n",
       "4  tt0000007            5.4       783"
      ]
     },
     "execution_count": 6,
     "metadata": {},
     "output_type": "execute_result"
    }
   ],
   "source": [
    "# Open saved file and preview again\n",
    "ratings = pd.read_csv(\"Data/ratings_resubmit.csv.gz\", low_memory = False)\n",
    "ratings.head()"
   ]
  },
  {
   "cell_type": "code",
   "execution_count": 7,
   "id": "3386fd6a",
   "metadata": {},
   "outputs": [
    {
     "data": {
      "text/plain": [
       "dict_keys(['api-key'])"
      ]
     },
     "execution_count": 7,
     "metadata": {},
     "output_type": "execute_result"
    }
   ],
   "source": [
    "with open('/Users/svaze/.secret/tmdb_api.json', 'r') as f:\n",
    "    login = json.load(f)\n",
    "## Display the keys of the loaded dict\n",
    "login.keys()\n",
    "\n"
   ]
  },
  {
   "cell_type": "code",
   "execution_count": 8,
   "id": "ca09c079",
   "metadata": {},
   "outputs": [],
   "source": [
    "tmdb.API_KEY =  login['api-key']\n",
    "\n"
   ]
  },
  {
   "cell_type": "code",
   "execution_count": 9,
   "id": "cdb51652",
   "metadata": {},
   "outputs": [],
   "source": [
    "def get_movie_with_rating(movie_id):\n",
    "# Get the movie object for the current id\n",
    "    movie = tmdb.Movies(movie_id)\n",
    "# save the .info .releases dictionaries\n",
    "    movie_info = movie.info()\n",
    "    releases = movie.releases()\n",
    "# Loop through countries in releases\n",
    "    for c in releases['countries']:\n",
    "    # if the country abbreviation==US\n",
    "        if c['iso_3166_1' ] =='US':\n",
    "        ## save a \"certification\" key in the info dict with the certification\n",
    "           movie_info['certification'] = c['certification']\n",
    "    return movie_info    \n"
   ]
  },
  {
   "cell_type": "code",
   "execution_count": 10,
   "id": "f78eae76",
   "metadata": {},
   "outputs": [],
   "source": [
    "def write_json(new_data, filename): \n",
    "    \"\"\"Adapted from: https://www.geeksforgeeks.org/append-to-json-file-using-python/\"\"\"    \n",
    "    \n",
    "    with open(filename,'r+') as file:\n",
    "        # First we load existing data into a dict.\n",
    "        file_data = json.load(file)\n",
    "        ## Choose extend or append\n",
    "        if (type(new_data) == list) & (type(file_data) == list):\n",
    "            file_data.extend(new_data)\n",
    "        else:\n",
    "             file_data.append(new_data)\n",
    "        # Sets file's current position at offset.\n",
    "        file.seek(0)\n",
    "        # convert back to json.\n",
    "        json.dump(file_data, file)\n"
   ]
  },
  {
   "cell_type": "code",
   "execution_count": 11,
   "id": "8709ca68",
   "metadata": {},
   "outputs": [
    {
     "data": {
      "text/plain": [
       "[]"
      ]
     },
     "execution_count": 11,
     "metadata": {},
     "output_type": "execute_result"
    }
   ],
   "source": [
    "FOLDER = \"Data1/\"\n",
    "os.makedirs(FOLDER, exist_ok=True)\n",
    "os.listdir(FOLDER)\n",
    "\n"
   ]
  },
  {
   "cell_type": "markdown",
   "id": "03263bc2",
   "metadata": {},
   "source": [
    "## Part 4"
   ]
  },
  {
   "cell_type": "code",
   "execution_count": 12,
   "id": "e88224d5",
   "metadata": {},
   "outputs": [],
   "source": [
    "YEARS_TO_GET = [2012,2013,2014,2015,2016]\n",
    "\n"
   ]
  },
  {
   "cell_type": "code",
   "execution_count": 14,
   "id": "62821fe0",
   "metadata": {},
   "outputs": [
    {
     "data": {
      "application/vnd.jupyter.widget-view+json": {
       "model_id": "43ed3a9a8f5942c9804ce0dac50c8d69",
       "version_major": 2,
       "version_minor": 0
      },
      "text/plain": [
       "YEARS:   0%|          | 0/5 [00:00<?, ?it/s]"
      ]
     },
     "metadata": {},
     "output_type": "display_data"
    },
    {
     "data": {
      "application/vnd.jupyter.widget-view+json": {
       "model_id": "ad053dd012dd4b469a24274694d48af1",
       "version_major": 2,
       "version_minor": 0
      },
      "text/plain": [
       "Movies from 2012:   0%|          | 0/4432 [00:00<?, ?it/s]"
      ]
     },
     "metadata": {},
     "output_type": "display_data"
    },
    {
     "data": {
      "application/vnd.jupyter.widget-view+json": {
       "model_id": "30dc73d51c4342de89bf233cc0c001da",
       "version_major": 2,
       "version_minor": 0
      },
      "text/plain": [
       "Movies from 2013:   0%|          | 0/4640 [00:00<?, ?it/s]"
      ]
     },
     "metadata": {},
     "output_type": "display_data"
    },
    {
     "data": {
      "application/vnd.jupyter.widget-view+json": {
       "model_id": "e9db435c974d4898b9252e0e15a5c6ec",
       "version_major": 2,
       "version_minor": 0
      },
      "text/plain": [
       "Movies from 2014:   0%|          | 0/4779 [00:00<?, ?it/s]"
      ]
     },
     "metadata": {},
     "output_type": "display_data"
    },
    {
     "data": {
      "application/vnd.jupyter.widget-view+json": {
       "model_id": "c307511cbfe644a5a3ab5533802b09fd",
       "version_major": 2,
       "version_minor": 0
      },
      "text/plain": [
       "Movies from 2015:   0%|          | 0/4930 [00:00<?, ?it/s]"
      ]
     },
     "metadata": {},
     "output_type": "display_data"
    },
    {
     "data": {
      "application/vnd.jupyter.widget-view+json": {
       "model_id": "112c17e72e3b4bb1bc2fe0a694e35502",
       "version_major": 2,
       "version_minor": 0
      },
      "text/plain": [
       "Movies from 2016:   0%|          | 0/5140 [00:00<?, ?it/s]"
      ]
     },
     "metadata": {},
     "output_type": "display_data"
    }
   ],
   "source": [
    "# Start of OUTER loop\n",
    "for YEAR in tqdm_notebook(YEARS_TO_GET,desc='YEARS',position=0):\n",
    "    #Defining the JSON file to store results for year\n",
    "    JSON_FILE = f'{FOLDER}tmdb_api_results_{YEAR}.json'\n",
    "    # Check if file exists\n",
    "    file_exists = os.path.isfile(JSON_FILE)\n",
    "    # If it does not exist: create it\n",
    "    if file_exists == False:\n",
    "    # save an empty dict with just \"imdb_id\" to the new json file.\n",
    "        with open(JSON_FILE,'w') as f:\n",
    "            json.dump([{'imdb_id':0}],f)\n",
    "    basics = pd.read_csv(\"Data/title_basics_resubmit.csv.gz\", low_memory = False)        \n",
    "    #Saving new year as the current df\n",
    "    df = basics.loc[basics['startYear']==YEAR].copy()\n",
    "    # saving movie ids to list\n",
    "    movie_ids = df['tconst'].copy()\n",
    "    # Load existing data from json into a dataframe called \"previous_df\"\n",
    "    previous_df = pd.read_json(JSON_FILE)\n",
    "    #Get index and movie id from list\n",
    "    # filter out any ids that are already in the JSON_FILE\n",
    "    movie_ids_to_get = movie_ids[~movie_ids.isin(previous_df['imdb_id'])]\n",
    "\n",
    "    \n",
    "    for movie_id_year in tqdm_notebook(movie_ids_to_get, desc=f'Movies from {YEAR}', position=1, leave=True):\n",
    "        try:\n",
    "            temp = get_movie_with_rating(movie_id_year)  \n",
    "            # Append/extend results to existing file using a pre-made function\n",
    "            write_json(temp,JSON_FILE)\n",
    "            # Short 20 ms sleep to prevent overwhelming server\n",
    "            time.sleep(0.02)\n",
    "            \n",
    "        # If it fails,  make a dict with just the id and None for certification.\n",
    "        except Exception as e:\n",
    "            continue\n",
    "    final_year_df = pd.read_json(JSON_FILE)\n",
    "    final_year_df.to_csv(f\"{FOLDER}final_tmdb_data_{YEAR}.csv.gz\", compression=\"gzip\", index=False)\n",
    "\n",
    "\n",
    "\n",
    "\n",
    "\n"
   ]
  },
  {
   "cell_type": "code",
   "execution_count": 19,
   "id": "d8326e37",
   "metadata": {},
   "outputs": [
    {
     "data": {
      "text/plain": [
       "['Data1\\\\final_tmdb_data_2012.csv.gz',\n",
       " 'Data1\\\\final_tmdb_data_2013.csv.gz',\n",
       " 'Data1\\\\final_tmdb_data_2014.csv.gz',\n",
       " 'Data1\\\\final_tmdb_data_2015.csv.gz',\n",
       " 'Data1\\\\final_tmdb_data_2016.csv.gz']"
      ]
     },
     "execution_count": 19,
     "metadata": {},
     "output_type": "execute_result"
    }
   ],
   "source": [
    "import glob\n",
    "q = \"Data1/final_tmdb_data_*.csv.gz\"\n",
    "chunked_files = glob.glob(q)\n",
    "chunked_files[:5]"
   ]
  },
  {
   "cell_type": "code",
   "execution_count": 20,
   "id": "1d980b4b",
   "metadata": {},
   "outputs": [],
   "source": [
    "df_combined = pd.concat([pd.read_csv(file, index_col=0) for file in chunked_files])"
   ]
  },
  {
   "cell_type": "code",
   "execution_count": 21,
   "id": "ad8bb60f",
   "metadata": {},
   "outputs": [],
   "source": [
    "final_fname ='Data/final_tmdb_data_12_16.csv.gz'\n",
    "df_combined.to_csv(final_fname, compression='gzip', index=False)"
   ]
  },
  {
   "cell_type": "code",
   "execution_count": 61,
   "id": "5c929eba",
   "metadata": {
    "scrolled": true
   },
   "outputs": [
    {
     "data": {
      "text/html": [
       "<div>\n",
       "<style scoped>\n",
       "    .dataframe tbody tr th:only-of-type {\n",
       "        vertical-align: middle;\n",
       "    }\n",
       "\n",
       "    .dataframe tbody tr th {\n",
       "        vertical-align: top;\n",
       "    }\n",
       "\n",
       "    .dataframe thead th {\n",
       "        text-align: right;\n",
       "    }\n",
       "</style>\n",
       "<table border=\"1\" class=\"dataframe\">\n",
       "  <thead>\n",
       "    <tr style=\"text-align: right;\">\n",
       "      <th></th>\n",
       "      <th>adult</th>\n",
       "      <th>backdrop_path</th>\n",
       "      <th>belongs_to_collection</th>\n",
       "      <th>budget</th>\n",
       "      <th>genres</th>\n",
       "      <th>homepage</th>\n",
       "      <th>id</th>\n",
       "      <th>original_language</th>\n",
       "      <th>original_title</th>\n",
       "      <th>overview</th>\n",
       "      <th>popularity</th>\n",
       "      <th>poster_path</th>\n",
       "      <th>production_companies</th>\n",
       "      <th>production_countries</th>\n",
       "      <th>release_date</th>\n",
       "      <th>revenue</th>\n",
       "      <th>runtime</th>\n",
       "      <th>spoken_languages</th>\n",
       "      <th>status</th>\n",
       "      <th>tagline</th>\n",
       "      <th>title</th>\n",
       "      <th>video</th>\n",
       "      <th>vote_average</th>\n",
       "      <th>vote_count</th>\n",
       "      <th>certification</th>\n",
       "    </tr>\n",
       "  </thead>\n",
       "  <tbody>\n",
       "    <tr>\n",
       "      <th>0</th>\n",
       "      <td>NaN</td>\n",
       "      <td>NaN</td>\n",
       "      <td>NaN</td>\n",
       "      <td>NaN</td>\n",
       "      <td>NaN</td>\n",
       "      <td>NaN</td>\n",
       "      <td>NaN</td>\n",
       "      <td>NaN</td>\n",
       "      <td>NaN</td>\n",
       "      <td>NaN</td>\n",
       "      <td>NaN</td>\n",
       "      <td>NaN</td>\n",
       "      <td>NaN</td>\n",
       "      <td>NaN</td>\n",
       "      <td>NaN</td>\n",
       "      <td>NaN</td>\n",
       "      <td>NaN</td>\n",
       "      <td>NaN</td>\n",
       "      <td>NaN</td>\n",
       "      <td>NaN</td>\n",
       "      <td>NaN</td>\n",
       "      <td>NaN</td>\n",
       "      <td>NaN</td>\n",
       "      <td>NaN</td>\n",
       "      <td>NaN</td>\n",
       "    </tr>\n",
       "    <tr>\n",
       "      <th>1</th>\n",
       "      <td>0.0</td>\n",
       "      <td>/t7zb6CnRQwhzQSq0apR4ESFYiWN.jpg</td>\n",
       "      <td>NaN</td>\n",
       "      <td>65000000.0</td>\n",
       "      <td>[{'id': 28, 'name': 'Action'}, {'id': 16, 'nam...</td>\n",
       "      <td>http://www.thresholdanimationstudios.com/video...</td>\n",
       "      <td>116977.0</td>\n",
       "      <td>en</td>\n",
       "      <td>Foodfight!</td>\n",
       "      <td>The evil Brand X joins a supermarket that beco...</td>\n",
       "      <td>8.319</td>\n",
       "      <td>/to9ggXVyhNTCICHcHMCtFtANd8P.jpg</td>\n",
       "      <td>[{'id': 1632, 'logo_path': '/cisLn1YAUuptXVBa0...</td>\n",
       "      <td>[{'iso_3166_1': 'US', 'name': 'United States o...</td>\n",
       "      <td>2012-06-15</td>\n",
       "      <td>73706.0</td>\n",
       "      <td>87.0</td>\n",
       "      <td>[{'english_name': 'English', 'iso_639_1': 'en'...</td>\n",
       "      <td>Released</td>\n",
       "      <td>NaN</td>\n",
       "      <td>Foodfight!</td>\n",
       "      <td>0.0</td>\n",
       "      <td>1.864</td>\n",
       "      <td>107.0</td>\n",
       "      <td>PG-13</td>\n",
       "    </tr>\n",
       "    <tr>\n",
       "      <th>2</th>\n",
       "      <td>0.0</td>\n",
       "      <td>/pKOHinAVIkyqLliMaTHCSL1T4zU.jpg</td>\n",
       "      <td>NaN</td>\n",
       "      <td>4000000.0</td>\n",
       "      <td>[{'id': 35, 'name': 'Comedy'}]</td>\n",
       "      <td>NaN</td>\n",
       "      <td>112074.0</td>\n",
       "      <td>pl</td>\n",
       "      <td>Life's a Beach</td>\n",
       "      <td>Darren gets stood up on the day of his wedding...</td>\n",
       "      <td>0.769</td>\n",
       "      <td>/v4RlCWc0ixi2ON6HWcZftO7U2P2.jpg</td>\n",
       "      <td>[{'id': 85165, 'logo_path': None, 'name': 'Mir...</td>\n",
       "      <td>[{'iso_3166_1': 'US', 'name': 'United States o...</td>\n",
       "      <td>2010-01-01</td>\n",
       "      <td>0.0</td>\n",
       "      <td>100.0</td>\n",
       "      <td>[{'english_name': 'English', 'iso_639_1': 'en'...</td>\n",
       "      <td>Released</td>\n",
       "      <td>NaN</td>\n",
       "      <td>Life's a Beach</td>\n",
       "      <td>0.0</td>\n",
       "      <td>2.500</td>\n",
       "      <td>5.0</td>\n",
       "      <td>R</td>\n",
       "    </tr>\n",
       "    <tr>\n",
       "      <th>3</th>\n",
       "      <td>0.0</td>\n",
       "      <td>/cj2isIuskSePAwpb2D6yUBZrhkJ.jpg</td>\n",
       "      <td>NaN</td>\n",
       "      <td>0.0</td>\n",
       "      <td>[{'id': 53, 'name': 'Thriller'}]</td>\n",
       "      <td>NaN</td>\n",
       "      <td>136884.0</td>\n",
       "      <td>en</td>\n",
       "      <td>Dark Blood</td>\n",
       "      <td>Filmed in 1993 but never completed due to Rive...</td>\n",
       "      <td>2.174</td>\n",
       "      <td>/oAfT3B8efpfuQ65dqy7We3GvlH.jpg</td>\n",
       "      <td>[{'id': 8, 'logo_path': '/78ilmDNTpdCfsakrsLqm...</td>\n",
       "      <td>[{'iso_3166_1': 'GB', 'name': 'United Kingdom'...</td>\n",
       "      <td>2012-09-27</td>\n",
       "      <td>0.0</td>\n",
       "      <td>86.0</td>\n",
       "      <td>[{'english_name': 'English', 'iso_639_1': 'en'...</td>\n",
       "      <td>Released</td>\n",
       "      <td>NaN</td>\n",
       "      <td>Dark Blood</td>\n",
       "      <td>0.0</td>\n",
       "      <td>6.100</td>\n",
       "      <td>17.0</td>\n",
       "      <td>NaN</td>\n",
       "    </tr>\n",
       "    <tr>\n",
       "      <th>4</th>\n",
       "      <td>0.0</td>\n",
       "      <td>/5dUOTVeNPU2CmEfFniQ8TE6HChG.jpg</td>\n",
       "      <td>NaN</td>\n",
       "      <td>25000000.0</td>\n",
       "      <td>[{'id': 12, 'name': 'Adventure'}, {'id': 18, '...</td>\n",
       "      <td>http://www.ontheroad-themovie.com/?lang=en</td>\n",
       "      <td>83770.0</td>\n",
       "      <td>en</td>\n",
       "      <td>On the Road</td>\n",
       "      <td>Dean and Sal are the portrait of the Beat Gene...</td>\n",
       "      <td>14.263</td>\n",
       "      <td>/k7LQteD02p3VHixbS6NXHkFdFwT.jpg</td>\n",
       "      <td>[{'id': 70, 'logo_path': '/ueaENQkPcy8rlr5fGZV...</td>\n",
       "      <td>[{'iso_3166_1': 'BR', 'name': 'Brazil'}, {'iso...</td>\n",
       "      <td>2012-05-22</td>\n",
       "      <td>8784318.0</td>\n",
       "      <td>137.0</td>\n",
       "      <td>[{'english_name': 'English', 'iso_639_1': 'en'...</td>\n",
       "      <td>Released</td>\n",
       "      <td>The best teacher is experience.</td>\n",
       "      <td>On the Road</td>\n",
       "      <td>0.0</td>\n",
       "      <td>5.614</td>\n",
       "      <td>730.0</td>\n",
       "      <td>R</td>\n",
       "    </tr>\n",
       "    <tr>\n",
       "      <th>...</th>\n",
       "      <td>...</td>\n",
       "      <td>...</td>\n",
       "      <td>...</td>\n",
       "      <td>...</td>\n",
       "      <td>...</td>\n",
       "      <td>...</td>\n",
       "      <td>...</td>\n",
       "      <td>...</td>\n",
       "      <td>...</td>\n",
       "      <td>...</td>\n",
       "      <td>...</td>\n",
       "      <td>...</td>\n",
       "      <td>...</td>\n",
       "      <td>...</td>\n",
       "      <td>...</td>\n",
       "      <td>...</td>\n",
       "      <td>...</td>\n",
       "      <td>...</td>\n",
       "      <td>...</td>\n",
       "      <td>...</td>\n",
       "      <td>...</td>\n",
       "      <td>...</td>\n",
       "      <td>...</td>\n",
       "      <td>...</td>\n",
       "      <td>...</td>\n",
       "    </tr>\n",
       "    <tr>\n",
       "      <th>17976</th>\n",
       "      <td>0.0</td>\n",
       "      <td>/bASfXeZbPcizNUGFWbPpzeMHgq9.jpg</td>\n",
       "      <td>NaN</td>\n",
       "      <td>0.0</td>\n",
       "      <td>[{'id': 10749, 'name': 'Romance'}, {'id': 18, ...</td>\n",
       "      <td>NaN</td>\n",
       "      <td>594885.0</td>\n",
       "      <td>zh</td>\n",
       "      <td>错了性别, 不错爱</td>\n",
       "      <td>Two roommates living in an all-girl dormitory....</td>\n",
       "      <td>1.778</td>\n",
       "      <td>/kLzzvOP29SHrBa7ryUuwLsLUqeD.jpg</td>\n",
       "      <td>[]</td>\n",
       "      <td>[]</td>\n",
       "      <td>2016-02-25</td>\n",
       "      <td>0.0</td>\n",
       "      <td>60.0</td>\n",
       "      <td>[{'english_name': 'Mandarin', 'iso_639_1': 'zh...</td>\n",
       "      <td>Released</td>\n",
       "      <td>NaN</td>\n",
       "      <td>Girls Love</td>\n",
       "      <td>0.0</td>\n",
       "      <td>5.000</td>\n",
       "      <td>4.0</td>\n",
       "      <td>NaN</td>\n",
       "    </tr>\n",
       "    <tr>\n",
       "      <th>17977</th>\n",
       "      <td>0.0</td>\n",
       "      <td>NaN</td>\n",
       "      <td>NaN</td>\n",
       "      <td>0.0</td>\n",
       "      <td>[{'id': 53, 'name': 'Thriller'}, {'id': 27, 'n...</td>\n",
       "      <td>NaN</td>\n",
       "      <td>398655.0</td>\n",
       "      <td>zh</td>\n",
       "      <td>Strange Battle</td>\n",
       "      <td>Strange Battle 2016 is based on a strange inci...</td>\n",
       "      <td>0.600</td>\n",
       "      <td>/4yZOgWoN58GPbx2toC2rC5vgy3g.jpg</td>\n",
       "      <td>[]</td>\n",
       "      <td>[{'iso_3166_1': 'CN', 'name': 'China'}]</td>\n",
       "      <td>2016-01-22</td>\n",
       "      <td>0.0</td>\n",
       "      <td>90.0</td>\n",
       "      <td>[{'english_name': 'Mandarin', 'iso_639_1': 'zh...</td>\n",
       "      <td>Released</td>\n",
       "      <td>NaN</td>\n",
       "      <td>Strange Battle</td>\n",
       "      <td>0.0</td>\n",
       "      <td>0.000</td>\n",
       "      <td>0.0</td>\n",
       "      <td>NaN</td>\n",
       "    </tr>\n",
       "    <tr>\n",
       "      <th>17978</th>\n",
       "      <td>0.0</td>\n",
       "      <td>NaN</td>\n",
       "      <td>NaN</td>\n",
       "      <td>0.0</td>\n",
       "      <td>[{'id': 18, 'name': 'Drama'}, {'id': 35, 'name...</td>\n",
       "      <td>NaN</td>\n",
       "      <td>914301.0</td>\n",
       "      <td>zh</td>\n",
       "      <td>Hi高考君</td>\n",
       "      <td>NaN</td>\n",
       "      <td>0.600</td>\n",
       "      <td>/aMhLd7chW4nqcB4hktUpNf1jNXH.jpg</td>\n",
       "      <td>[]</td>\n",
       "      <td>[{'iso_3166_1': 'CN', 'name': 'China'}]</td>\n",
       "      <td>2016-08-19</td>\n",
       "      <td>0.0</td>\n",
       "      <td>0.0</td>\n",
       "      <td>[{'english_name': 'Mandarin', 'iso_639_1': 'zh...</td>\n",
       "      <td>Released</td>\n",
       "      <td>NaN</td>\n",
       "      <td>Hi高考君</td>\n",
       "      <td>0.0</td>\n",
       "      <td>0.000</td>\n",
       "      <td>0.0</td>\n",
       "      <td>NaN</td>\n",
       "    </tr>\n",
       "    <tr>\n",
       "      <th>17979</th>\n",
       "      <td>0.0</td>\n",
       "      <td>/f2HAgJuweEdeQJi4Mzshu6WxRPD.jpg</td>\n",
       "      <td>NaN</td>\n",
       "      <td>0.0</td>\n",
       "      <td>[{'id': 18, 'name': 'Drama'}, {'id': 10749, 'n...</td>\n",
       "      <td>NaN</td>\n",
       "      <td>475943.0</td>\n",
       "      <td>en</td>\n",
       "      <td>Couple of Days</td>\n",
       "      <td>Three couples, each in different phases of rom...</td>\n",
       "      <td>1.758</td>\n",
       "      <td>/1xbOalfd97D8wwy7G5oflJOOXD1.jpg</td>\n",
       "      <td>[]</td>\n",
       "      <td>[{'iso_3166_1': 'NG', 'name': 'Nigeria'}]</td>\n",
       "      <td>2016-02-05</td>\n",
       "      <td>0.0</td>\n",
       "      <td>103.0</td>\n",
       "      <td>[{'english_name': 'English', 'iso_639_1': 'en'...</td>\n",
       "      <td>Released</td>\n",
       "      <td>NaN</td>\n",
       "      <td>Couple of Days</td>\n",
       "      <td>0.0</td>\n",
       "      <td>4.000</td>\n",
       "      <td>1.0</td>\n",
       "      <td>NaN</td>\n",
       "    </tr>\n",
       "    <tr>\n",
       "      <th>17980</th>\n",
       "      <td>0.0</td>\n",
       "      <td>/ifhAWtypQ7RBNYKxU674WTdSaio.jpg</td>\n",
       "      <td>NaN</td>\n",
       "      <td>0.0</td>\n",
       "      <td>[]</td>\n",
       "      <td>NaN</td>\n",
       "      <td>417568.0</td>\n",
       "      <td>pt</td>\n",
       "      <td>O que seria deste mundo sem paixão?</td>\n",
       "      <td>An encounter of novelist Lúcio Cardoso and poe...</td>\n",
       "      <td>0.997</td>\n",
       "      <td>/93aVVFYHITV3E6f9gNSKcwF3O6H.jpg</td>\n",
       "      <td>[]</td>\n",
       "      <td>[]</td>\n",
       "      <td>2016-09-23</td>\n",
       "      <td>0.0</td>\n",
       "      <td>72.0</td>\n",
       "      <td>[]</td>\n",
       "      <td>Released</td>\n",
       "      <td>NaN</td>\n",
       "      <td>What of This World Without Passion?</td>\n",
       "      <td>0.0</td>\n",
       "      <td>5.000</td>\n",
       "      <td>1.0</td>\n",
       "      <td>NaN</td>\n",
       "    </tr>\n",
       "  </tbody>\n",
       "</table>\n",
       "<p>17981 rows × 25 columns</p>\n",
       "</div>"
      ],
      "text/plain": [
       "       adult                     backdrop_path belongs_to_collection  \\\n",
       "0        NaN                               NaN                   NaN   \n",
       "1        0.0  /t7zb6CnRQwhzQSq0apR4ESFYiWN.jpg                   NaN   \n",
       "2        0.0  /pKOHinAVIkyqLliMaTHCSL1T4zU.jpg                   NaN   \n",
       "3        0.0  /cj2isIuskSePAwpb2D6yUBZrhkJ.jpg                   NaN   \n",
       "4        0.0  /5dUOTVeNPU2CmEfFniQ8TE6HChG.jpg                   NaN   \n",
       "...      ...                               ...                   ...   \n",
       "17976    0.0  /bASfXeZbPcizNUGFWbPpzeMHgq9.jpg                   NaN   \n",
       "17977    0.0                               NaN                   NaN   \n",
       "17978    0.0                               NaN                   NaN   \n",
       "17979    0.0  /f2HAgJuweEdeQJi4Mzshu6WxRPD.jpg                   NaN   \n",
       "17980    0.0  /ifhAWtypQ7RBNYKxU674WTdSaio.jpg                   NaN   \n",
       "\n",
       "           budget                                             genres  \\\n",
       "0             NaN                                                NaN   \n",
       "1      65000000.0  [{'id': 28, 'name': 'Action'}, {'id': 16, 'nam...   \n",
       "2       4000000.0                     [{'id': 35, 'name': 'Comedy'}]   \n",
       "3             0.0                   [{'id': 53, 'name': 'Thriller'}]   \n",
       "4      25000000.0  [{'id': 12, 'name': 'Adventure'}, {'id': 18, '...   \n",
       "...           ...                                                ...   \n",
       "17976         0.0  [{'id': 10749, 'name': 'Romance'}, {'id': 18, ...   \n",
       "17977         0.0  [{'id': 53, 'name': 'Thriller'}, {'id': 27, 'n...   \n",
       "17978         0.0  [{'id': 18, 'name': 'Drama'}, {'id': 35, 'name...   \n",
       "17979         0.0  [{'id': 18, 'name': 'Drama'}, {'id': 10749, 'n...   \n",
       "17980         0.0                                                 []   \n",
       "\n",
       "                                                homepage        id  \\\n",
       "0                                                    NaN       NaN   \n",
       "1      http://www.thresholdanimationstudios.com/video...  116977.0   \n",
       "2                                                    NaN  112074.0   \n",
       "3                                                    NaN  136884.0   \n",
       "4             http://www.ontheroad-themovie.com/?lang=en   83770.0   \n",
       "...                                                  ...       ...   \n",
       "17976                                                NaN  594885.0   \n",
       "17977                                                NaN  398655.0   \n",
       "17978                                                NaN  914301.0   \n",
       "17979                                                NaN  475943.0   \n",
       "17980                                                NaN  417568.0   \n",
       "\n",
       "      original_language                       original_title  \\\n",
       "0                   NaN                                  NaN   \n",
       "1                    en                           Foodfight!   \n",
       "2                    pl                       Life's a Beach   \n",
       "3                    en                           Dark Blood   \n",
       "4                    en                          On the Road   \n",
       "...                 ...                                  ...   \n",
       "17976                zh                            错了性别, 不错爱   \n",
       "17977                zh                       Strange Battle   \n",
       "17978                zh                                Hi高考君   \n",
       "17979                en                       Couple of Days   \n",
       "17980                pt  O que seria deste mundo sem paixão?   \n",
       "\n",
       "                                                overview  popularity  \\\n",
       "0                                                    NaN         NaN   \n",
       "1      The evil Brand X joins a supermarket that beco...       8.319   \n",
       "2      Darren gets stood up on the day of his wedding...       0.769   \n",
       "3      Filmed in 1993 but never completed due to Rive...       2.174   \n",
       "4      Dean and Sal are the portrait of the Beat Gene...      14.263   \n",
       "...                                                  ...         ...   \n",
       "17976  Two roommates living in an all-girl dormitory....       1.778   \n",
       "17977  Strange Battle 2016 is based on a strange inci...       0.600   \n",
       "17978                                                NaN       0.600   \n",
       "17979  Three couples, each in different phases of rom...       1.758   \n",
       "17980  An encounter of novelist Lúcio Cardoso and poe...       0.997   \n",
       "\n",
       "                            poster_path  \\\n",
       "0                                   NaN   \n",
       "1      /to9ggXVyhNTCICHcHMCtFtANd8P.jpg   \n",
       "2      /v4RlCWc0ixi2ON6HWcZftO7U2P2.jpg   \n",
       "3       /oAfT3B8efpfuQ65dqy7We3GvlH.jpg   \n",
       "4      /k7LQteD02p3VHixbS6NXHkFdFwT.jpg   \n",
       "...                                 ...   \n",
       "17976  /kLzzvOP29SHrBa7ryUuwLsLUqeD.jpg   \n",
       "17977  /4yZOgWoN58GPbx2toC2rC5vgy3g.jpg   \n",
       "17978  /aMhLd7chW4nqcB4hktUpNf1jNXH.jpg   \n",
       "17979  /1xbOalfd97D8wwy7G5oflJOOXD1.jpg   \n",
       "17980  /93aVVFYHITV3E6f9gNSKcwF3O6H.jpg   \n",
       "\n",
       "                                    production_companies  \\\n",
       "0                                                    NaN   \n",
       "1      [{'id': 1632, 'logo_path': '/cisLn1YAUuptXVBa0...   \n",
       "2      [{'id': 85165, 'logo_path': None, 'name': 'Mir...   \n",
       "3      [{'id': 8, 'logo_path': '/78ilmDNTpdCfsakrsLqm...   \n",
       "4      [{'id': 70, 'logo_path': '/ueaENQkPcy8rlr5fGZV...   \n",
       "...                                                  ...   \n",
       "17976                                                 []   \n",
       "17977                                                 []   \n",
       "17978                                                 []   \n",
       "17979                                                 []   \n",
       "17980                                                 []   \n",
       "\n",
       "                                    production_countries release_date  \\\n",
       "0                                                    NaN          NaN   \n",
       "1      [{'iso_3166_1': 'US', 'name': 'United States o...   2012-06-15   \n",
       "2      [{'iso_3166_1': 'US', 'name': 'United States o...   2010-01-01   \n",
       "3      [{'iso_3166_1': 'GB', 'name': 'United Kingdom'...   2012-09-27   \n",
       "4      [{'iso_3166_1': 'BR', 'name': 'Brazil'}, {'iso...   2012-05-22   \n",
       "...                                                  ...          ...   \n",
       "17976                                                 []   2016-02-25   \n",
       "17977            [{'iso_3166_1': 'CN', 'name': 'China'}]   2016-01-22   \n",
       "17978            [{'iso_3166_1': 'CN', 'name': 'China'}]   2016-08-19   \n",
       "17979          [{'iso_3166_1': 'NG', 'name': 'Nigeria'}]   2016-02-05   \n",
       "17980                                                 []   2016-09-23   \n",
       "\n",
       "         revenue  runtime                                   spoken_languages  \\\n",
       "0            NaN      NaN                                                NaN   \n",
       "1        73706.0     87.0  [{'english_name': 'English', 'iso_639_1': 'en'...   \n",
       "2            0.0    100.0  [{'english_name': 'English', 'iso_639_1': 'en'...   \n",
       "3            0.0     86.0  [{'english_name': 'English', 'iso_639_1': 'en'...   \n",
       "4      8784318.0    137.0  [{'english_name': 'English', 'iso_639_1': 'en'...   \n",
       "...          ...      ...                                                ...   \n",
       "17976        0.0     60.0  [{'english_name': 'Mandarin', 'iso_639_1': 'zh...   \n",
       "17977        0.0     90.0  [{'english_name': 'Mandarin', 'iso_639_1': 'zh...   \n",
       "17978        0.0      0.0  [{'english_name': 'Mandarin', 'iso_639_1': 'zh...   \n",
       "17979        0.0    103.0  [{'english_name': 'English', 'iso_639_1': 'en'...   \n",
       "17980        0.0     72.0                                                 []   \n",
       "\n",
       "         status                          tagline  \\\n",
       "0           NaN                              NaN   \n",
       "1      Released                              NaN   \n",
       "2      Released                              NaN   \n",
       "3      Released                              NaN   \n",
       "4      Released  The best teacher is experience.   \n",
       "...         ...                              ...   \n",
       "17976  Released                              NaN   \n",
       "17977  Released                              NaN   \n",
       "17978  Released                              NaN   \n",
       "17979  Released                              NaN   \n",
       "17980  Released                              NaN   \n",
       "\n",
       "                                     title  video  vote_average  vote_count  \\\n",
       "0                                      NaN    NaN           NaN         NaN   \n",
       "1                               Foodfight!    0.0         1.864       107.0   \n",
       "2                           Life's a Beach    0.0         2.500         5.0   \n",
       "3                               Dark Blood    0.0         6.100        17.0   \n",
       "4                              On the Road    0.0         5.614       730.0   \n",
       "...                                    ...    ...           ...         ...   \n",
       "17976                           Girls Love    0.0         5.000         4.0   \n",
       "17977                       Strange Battle    0.0         0.000         0.0   \n",
       "17978                                Hi高考君    0.0         0.000         0.0   \n",
       "17979                       Couple of Days    0.0         4.000         1.0   \n",
       "17980  What of This World Without Passion?    0.0         5.000         1.0   \n",
       "\n",
       "      certification  \n",
       "0               NaN  \n",
       "1             PG-13  \n",
       "2                 R  \n",
       "3               NaN  \n",
       "4                 R  \n",
       "...             ...  \n",
       "17976           NaN  \n",
       "17977           NaN  \n",
       "17978           NaN  \n",
       "17979           NaN  \n",
       "17980           NaN  \n",
       "\n",
       "[17981 rows x 25 columns]"
      ]
     },
     "execution_count": 61,
     "metadata": {},
     "output_type": "execute_result"
    }
   ],
   "source": [
    "pd.set_option('display.max_columns', None)\n",
    "df_combined = pd.read_csv(final_fname)\n",
    "df_combined"
   ]
  },
  {
   "cell_type": "markdown",
   "id": "648df752",
   "metadata": {},
   "source": [
    "### Question 1: Does MPAA Rating affect Movie Revenue?"
   ]
  },
  {
   "cell_type": "markdown",
   "id": "38459162",
   "metadata": {},
   "source": [
    "Null Hypothesis: There is no significant difference across movies with different ratings regarding their revenue totals.\n",
    "\n",
    "Alt Hypothesis: MPAA rating does statistically significantly impact the revenue a movie makes.\n",
    "\n",
    "Alpha = 0.05\n",
    "\n",
    "ANOVA Test"
   ]
  },
  {
   "cell_type": "code",
   "execution_count": 62,
   "id": "b5a26dae",
   "metadata": {},
   "outputs": [
    {
     "data": {
      "image/png": "[encoded data removed]",
      "text/plain": [
       "<Figure size 432x288 with 1 Axes>"
      ]
     },
     "metadata": {
      "needs_background": "light"
     },
     "output_type": "display_data"
    }
   ],
   "source": [
    "sns.barplot(data=df_combined, x='certification',y='revenue');"
   ]
  },
  {
   "cell_type": "code",
   "execution_count": 63,
   "id": "de66cbf5",
   "metadata": {},
   "outputs": [],
   "source": [
    "df_combined=df_combined.dropna(subset=['certification','revenue'])"
   ]
  },
  {
   "cell_type": "code",
   "execution_count": 64,
   "id": "4aa25708",
   "metadata": {},
   "outputs": [
    {
     "data": {
      "text/plain": [
       "dict_keys(['PG-13', 'R', 'PG', 'NR', 'G', 'NC-17', 'R ', 'PG-13 ', '10', 'Unrated'])"
      ]
     },
     "execution_count": 64,
     "metadata": {},
     "output_type": "execute_result"
    }
   ],
   "source": [
    "groups = {}\n",
    "## Loop through all unique categories\n",
    "for i in df_combined['certification'].unique():\n",
    "    ## Get series for group and rename\n",
    "    data = df_combined.loc[df_combined['certification']==i,'revenue'].copy()\n",
    "    \n",
    "    # save into the dictionary\n",
    "    groups[i] = data\n",
    "groups.keys()"
   ]
  },
  {
   "cell_type": "markdown",
   "id": "7ba43612",
   "metadata": {},
   "source": [
    "Samples are large enough to ignore normalcy"
   ]
  },
  {
   "cell_type": "code",
   "execution_count": 65,
   "id": "1bbb9eb5",
   "metadata": {},
   "outputs": [
    {
     "data": {
      "text/plain": [
       "LeveneResult(statistic=33.4196666008402, pvalue=2.2413073520789058e-57)"
      ]
     },
     "execution_count": 65,
     "metadata": {},
     "output_type": "execute_result"
    }
   ],
   "source": [
    "stats.levene(*groups.values()) #check for equal variance"
   ]
  },
  {
   "cell_type": "code",
   "execution_count": 66,
   "id": "34737c41",
   "metadata": {},
   "outputs": [
    {
     "data": {
      "text/plain": [
       "F_onewayResult(statistic=33.497154522222374, pvalue=1.6304910375684943e-57)"
      ]
     },
     "execution_count": 66,
     "metadata": {},
     "output_type": "execute_result"
    }
   ],
   "source": [
    "result = stats.f_oneway(*groups.values())\n",
    "result"
   ]
  },
  {
   "cell_type": "code",
   "execution_count": 67,
   "id": "12f70fec",
   "metadata": {},
   "outputs": [],
   "source": [
    "## save the values as revenue and the labels to the certification\n",
    "values = df_combined['revenue']\n",
    "labels = df_combined['certification']"
   ]
  },
  {
   "cell_type": "code",
   "execution_count": 68,
   "id": "bee38cc7",
   "metadata": {},
   "outputs": [
    {
     "data": {
      "text/html": [
       "<table class=\"simpletable\">\n",
       "<caption>Multiple Comparison of Means - Tukey HSD, FWER=0.05</caption>\n",
       "<tr>\n",
       "  <th>group1</th> <th>group2</th>     <th>meandiff</th>     <th>p-adj</th>      <th>lower</th>           <th>upper</th>     <th>reject</th>\n",
       "</tr>\n",
       "<tr>\n",
       "    <td>10</td>      <td>G</td>     <td>16434040.1983</td>   <td>1.0</td>  <td>-367302293.943</td>  <td>400170374.3397</td>  <td>False</td>\n",
       "</tr>\n",
       "<tr>\n",
       "    <td>10</td>    <td>NC-17</td>    <td>430953.1607</td>    <td>1.0</td>  <td>-385126503.2987</td> <td>385988409.6201</td>  <td>False</td>\n",
       "</tr>\n",
       "<tr>\n",
       "    <td>10</td>     <td>NR</td>     <td>1421372.1897</td>    <td>1.0</td>  <td>-380897313.3083</td> <td>383740057.6878</td>  <td>False</td>\n",
       "</tr>\n",
       "<tr>\n",
       "    <td>10</td>     <td>PG</td>     <td>75493770.8045</td> <td>0.9998</td> <td>-307139315.9257</td> <td>458126857.5346</td>  <td>False</td>\n",
       "</tr>\n",
       "<tr>\n",
       "    <td>10</td>    <td>PG-13</td>   <td>80360041.935</td>  <td>0.9997</td> <td>-302010749.1557</td> <td>462730833.0258</td>  <td>False</td>\n",
       "</tr>\n",
       "<tr>\n",
       "    <td>10</td>   <td>PG-13 </td>     <td>4825184.0</td>     <td>1.0</td>  <td>-535631248.3438</td> <td>545281616.3438</td>  <td>False</td>\n",
       "</tr>\n",
       "<tr>\n",
       "    <td>10</td>      <td>R</td>     <td>18812844.9593</td>   <td>1.0</td>  <td>-363469173.6029</td> <td>401094863.5214</td>  <td>False</td>\n",
       "</tr>\n",
       "<tr>\n",
       "    <td>10</td>     <td>R </td>      <td>149295601.0</td>  <td>0.9972</td> <td>-391160831.3438</td> <td>689752033.3438</td>  <td>False</td>\n",
       "</tr>\n",
       "<tr>\n",
       "    <td>10</td>   <td>Unrated</td>       <td>0.0</td>        <td>1.0</td>  <td>-427268325.5738</td> <td>427268325.5738</td>  <td>False</td>\n",
       "</tr>\n",
       "<tr>\n",
       "     <td>G</td>    <td>NC-17</td>  <td>-16003087.0376</td> <td>0.9983</td> <td>-77768539.4354</td>   <td>45762365.3601</td>  <td>False</td>\n",
       "</tr>\n",
       "<tr>\n",
       "     <td>G</td>     <td>NR</td>    <td>-15012668.0086</td>  <td>0.953</td> <td>-51454349.6303</td>   <td>21429013.613</td>   <td>False</td>\n",
       "</tr>\n",
       "<tr>\n",
       "     <td>G</td>     <td>PG</td>     <td>59059730.6061</td> <td>0.0001</td>  <td>19455463.9278</td>   <td>98663997.2844</td>  <td>True</td> \n",
       "</tr>\n",
       "<tr>\n",
       "     <td>G</td>    <td>PG-13</td>   <td>63926001.7367</td>   <td>0.0</td>   <td>26941670.489</td>   <td>100910332.9844</td>  <td>True</td> \n",
       "</tr>\n",
       "<tr>\n",
       "     <td>G</td>   <td>PG-13 </td>  <td>-11608856.1983</td>   <td>1.0</td>  <td>-395345190.3397</td>  <td>372127477.943</td>  <td>False</td>\n",
       "</tr>\n",
       "<tr>\n",
       "     <td>G</td>      <td>R</td>     <td>2378804.7609</td>    <td>1.0</td>  <td>-33676161.5323</td>   <td>38433771.0542</td>  <td>False</td>\n",
       "</tr>\n",
       "<tr>\n",
       "     <td>G</td>     <td>R </td>    <td>132861560.8017</td> <td>0.9852</td> <td>-250874773.3397</td>  <td>516597894.943</td>  <td>False</td>\n",
       "</tr>\n",
       "<tr>\n",
       "     <td>G</td>   <td>Unrated</td> <td>-16434040.1983</td>   <td>1.0</td>  <td>-210646915.4591</td> <td>177778835.0625</td>  <td>False</td>\n",
       "</tr>\n",
       "<tr>\n",
       "   <td>NC-17</td>   <td>NR</td>      <td>990419.029</td>     <td>1.0</td>  <td>-51249166.0633</td>   <td>53230004.1213</td>  <td>False</td>\n",
       "</tr>\n",
       "<tr>\n",
       "   <td>NC-17</td>   <td>PG</td>     <td>75062817.6437</td> <td>0.0006</td>  <td>20569918.7455</td>   <td>129555716.542</td>  <td>True</td> \n",
       "</tr>\n",
       "<tr>\n",
       "   <td>NC-17</td>  <td>PG-13</td>   <td>79929088.7743</td> <td>0.0001</td>  <td>27309521.6054</td>  <td>132548655.9432</td>  <td>True</td> \n",
       "</tr>\n",
       "<tr>\n",
       "   <td>NC-17</td> <td>PG-13 </td>   <td>4394230.8393</td>    <td>1.0</td>  <td>-381163225.6201</td> <td>389951687.2987</td>  <td>False</td>\n",
       "</tr>\n",
       "<tr>\n",
       "   <td>NC-17</td>    <td>R</td>     <td>18381891.7985</td> <td>0.9828</td> <td>-33588664.1501</td>   <td>70352447.7472</td>  <td>False</td>\n",
       "</tr>\n",
       "<tr>\n",
       "   <td>NC-17</td>   <td>R </td>    <td>148864647.8393</td>  <td>0.969</td> <td>-236692808.6201</td> <td>534422104.2987</td>  <td>False</td>\n",
       "</tr>\n",
       "<tr>\n",
       "   <td>NC-17</td> <td>Unrated</td>  <td>-430953.1607</td>    <td>1.0</td>  <td>-198217755.0669</td> <td>197355848.7455</td>  <td>False</td>\n",
       "</tr>\n",
       "<tr>\n",
       "    <td>NR</td>     <td>PG</td>     <td>74072398.6147</td>  <td>-0.0</td>   <td>52106491.3982</td>   <td>96038305.8313</td>  <td>True</td> \n",
       "</tr>\n",
       "<tr>\n",
       "    <td>NR</td>    <td>PG-13</td>   <td>78938669.7453</td>  <td>-0.0</td>   <td>62150462.6177</td>   <td>95726876.8729</td>  <td>True</td> \n",
       "</tr>\n",
       "<tr>\n",
       "    <td>NR</td>   <td>PG-13 </td>   <td>3403811.8103</td>    <td>1.0</td>  <td>-378914873.6878</td> <td>385722497.3083</td>  <td>False</td>\n",
       "</tr>\n",
       "<tr>\n",
       "    <td>NR</td>      <td>R</td>     <td>17391472.7695</td> <td>0.0065</td>  <td>2763973.4915</td>    <td>32018972.0475</td>  <td>True</td> \n",
       "</tr>\n",
       "<tr>\n",
       "    <td>NR</td>     <td>R </td>    <td>147874228.8103</td> <td>0.9686</td> <td>-234444456.6878</td> <td>530192914.3083</td>  <td>False</td>\n",
       "</tr>\n",
       "<tr>\n",
       "    <td>NR</td>   <td>Unrated</td>  <td>-1421372.1897</td>   <td>1.0</td>  <td>-192817934.4833</td> <td>189975190.1038</td>  <td>False</td>\n",
       "</tr>\n",
       "<tr>\n",
       "    <td>PG</td>    <td>PG-13</td>   <td>4866271.1306</td>  <td>0.9996</td> <td>-17988611.8985</td>   <td>27721154.1596</td>  <td>False</td>\n",
       "</tr>\n",
       "<tr>\n",
       "    <td>PG</td>   <td>PG-13 </td>  <td>-70668586.8045</td> <td>0.9999</td> <td>-453301673.5346</td> <td>311964499.9257</td>  <td>False</td>\n",
       "</tr>\n",
       "<tr>\n",
       "    <td>PG</td>      <td>R</td>    <td>-56680925.8452</td>  <td>-0.0</td>  <td>-77999122.6461</td>  <td>-35362729.0443</td>  <td>True</td> \n",
       "</tr>\n",
       "<tr>\n",
       "    <td>PG</td>     <td>R </td>     <td>73801830.1955</td> <td>0.9998</td> <td>-308831256.5346</td> <td>456434916.9257</td>  <td>False</td>\n",
       "</tr>\n",
       "<tr>\n",
       "    <td>PG</td>   <td>Unrated</td> <td>-75493770.8045</td> <td>0.9651</td> <td>-267517586.6125</td> <td>116530045.0036</td>  <td>False</td>\n",
       "</tr>\n",
       "<tr>\n",
       "   <td>PG-13</td> <td>PG-13 </td>   <td>-75534857.935</td> <td>0.9998</td> <td>-457905649.0258</td> <td>306835933.1557</td>  <td>False</td>\n",
       "</tr>\n",
       "<tr>\n",
       "   <td>PG-13</td>    <td>R</td>    <td>-61547196.9758</td>  <td>-0.0</td>  <td>-77478560.1802</td>  <td>-45615833.7713</td>  <td>True</td> \n",
       "</tr>\n",
       "<tr>\n",
       "   <td>PG-13</td>   <td>R </td>     <td>68935559.065</td>  <td>0.9999</td> <td>-313435232.0258</td> <td>451306350.1557</td>  <td>False</td>\n",
       "</tr>\n",
       "<tr>\n",
       "   <td>PG-13</td> <td>Unrated</td>  <td>-80360041.935</td> <td>0.9473</td> <td>-271860665.0573</td> <td>111140581.1872</td>  <td>False</td>\n",
       "</tr>\n",
       "<tr>\n",
       "  <td>PG-13 </td>    <td>R</td>     <td>13987660.9593</td>   <td>1.0</td>  <td>-368294357.6029</td> <td>396269679.5214</td>  <td>False</td>\n",
       "</tr>\n",
       "<tr>\n",
       "  <td>PG-13 </td>   <td>R </td>      <td>144470417.0</td>  <td>0.9978</td> <td>-395986015.3438</td> <td>684926849.3438</td>  <td>False</td>\n",
       "</tr>\n",
       "<tr>\n",
       "  <td>PG-13 </td> <td>Unrated</td>   <td>-4825184.0</td>     <td>1.0</td>  <td>-432093509.5738</td> <td>422443141.5738</td>  <td>False</td>\n",
       "</tr>\n",
       "<tr>\n",
       "     <td>R</td>     <td>R </td>    <td>130482756.0407</td> <td>0.9866</td> <td>-251799262.5214</td> <td>512764774.6029</td>  <td>False</td>\n",
       "</tr>\n",
       "<tr>\n",
       "     <td>R</td>   <td>Unrated</td> <td>-18812844.9593</td>   <td>1.0</td>  <td>-210136153.7661</td> <td>172510463.8475</td>  <td>False</td>\n",
       "</tr>\n",
       "<tr>\n",
       "    <td>R </td>   <td>Unrated</td>  <td>-149295601.0</td>  <td>0.9842</td> <td>-576563926.5738</td> <td>277972724.5738</td>  <td>False</td>\n",
       "</tr>\n",
       "</table>"
      ],
      "text/plain": [
       "<class 'statsmodels.iolib.table.SimpleTable'>"
      ]
     },
     "execution_count": 68,
     "metadata": {},
     "output_type": "execute_result"
    }
   ],
   "source": [
    "tukeys_results = pairwise_tukeyhsd(values,labels)\n",
    "tukeys_results.summary()"
   ]
  },
  {
   "cell_type": "markdown",
   "id": "8d287857",
   "metadata": {},
   "source": [
    "Since our p value is less than the alpha, we reject the NH and accept the AH, and say that MPAA rating does affect the revenue totals of a movie.\n",
    "\n",
    "p-value = 1.63\n",
    "R rated movies appear to return the highest revenue overall."
   ]
  },
  {
   "cell_type": "markdown",
   "id": "17421a86",
   "metadata": {},
   "source": [
    "### Question 2: Do movies longer than 96 minutes earn more than those shorter?"
   ]
  },
  {
   "cell_type": "markdown",
   "id": "09d69b93",
   "metadata": {},
   "source": [
    "NH: All movies regardless of runtime earn similar final revenue totals.\n",
    "\n",
    "AH: Runtime does statistically affect the earning potential of a movie.\n",
    "\n",
    "Alpha = 0.05\n",
    "\n",
    "Independent T-Test"
   ]
  },
  {
   "cell_type": "code",
   "execution_count": 69,
   "id": "e52172d0",
   "metadata": {},
   "outputs": [
    {
     "data": {
      "text/plain": [
       "96.2400561534862"
      ]
     },
     "execution_count": 69,
     "metadata": {},
     "output_type": "execute_result"
    }
   ],
   "source": [
    "df_combined['runtime'].mean() #find mean as comparison point"
   ]
  },
  {
   "cell_type": "code",
   "execution_count": 73,
   "id": "fed53b76",
   "metadata": {},
   "outputs": [],
   "source": [
    "# Filtering out movies above and below mean\n",
    "df_combined=df_combined.dropna(subset=['runtime','revenue'])\n",
    "long = df_combined.loc[df_combined['runtime'] > 96].copy()\n",
    "short = df_combined.loc[df_combined['runtime'] <= 96].copy()"
   ]
  },
  {
   "cell_type": "code",
   "execution_count": 74,
   "id": "b09880b1",
   "metadata": {},
   "outputs": [],
   "source": [
    "long = long['revenue'] #target feature: revenue by runtime\n",
    "short = short['revenue']"
   ]
  },
  {
   "cell_type": "code",
   "execution_count": 77,
   "id": "d64fddd2",
   "metadata": {},
   "outputs": [
    {
     "data": {
      "text/plain": [
       "32"
      ]
     },
     "execution_count": 77,
     "metadata": {},
     "output_type": "execute_result"
    }
   ],
   "source": [
    "zscores_short= stats.zscore(short) #short movie outliers\n",
    "outliers_short = abs(zscores_short)>3\n",
    "np.sum(outliers_short)"
   ]
  },
  {
   "cell_type": "code",
   "execution_count": 78,
   "id": "a1605950",
   "metadata": {},
   "outputs": [
    {
     "data": {
      "text/plain": [
       "50"
      ]
     },
     "execution_count": 78,
     "metadata": {},
     "output_type": "execute_result"
    }
   ],
   "source": [
    "zscores_long= stats.zscore(long) #short movie outliers\n",
    "outliers_long = abs(zscores_long)>3\n",
    "np.sum(outliers_long)"
   ]
  },
  {
   "cell_type": "code",
   "execution_count": 79,
   "id": "e93c4e61",
   "metadata": {},
   "outputs": [],
   "source": [
    "long = long[(np.abs(stats.zscore(long)) <= 3)]         #exclude outliers\n",
    "short = short[(np.abs(stats.zscore(short)) <= 3)]"
   ]
  },
  {
   "cell_type": "code",
   "execution_count": 81,
   "id": "da54da77",
   "metadata": {},
   "outputs": [
    {
     "data": {
      "text/plain": [
       "NormaltestResult(statistic=1230.579550254418, pvalue=6.068004452147406e-268)"
      ]
     },
     "execution_count": 81,
     "metadata": {},
     "output_type": "execute_result"
    }
   ],
   "source": [
    "normal_long = stats.normaltest(long) #check for normal distribution in discount group\n",
    "normal_long\n"
   ]
  },
  {
   "cell_type": "code",
   "execution_count": 82,
   "id": "7e524e5a",
   "metadata": {},
   "outputs": [
    {
     "data": {
      "text/plain": [
       "NormaltestResult(statistic=2757.559719756269, pvalue=0.0)"
      ]
     },
     "execution_count": 82,
     "metadata": {},
     "output_type": "execute_result"
    }
   ],
   "source": [
    "normal_short = stats.normaltest(short) #check for normal distribution in discount group\n",
    "normal_short\n"
   ]
  },
  {
   "cell_type": "markdown",
   "id": "befd237f",
   "metadata": {},
   "source": [
    "Sample sizes are large enough for normal test to be ignored"
   ]
  },
  {
   "cell_type": "code",
   "execution_count": 86,
   "id": "6a282c39",
   "metadata": {},
   "outputs": [
    {
     "data": {
      "text/plain": [
       "LeveneResult(statistic=345.07736071950194, pvalue=4.3885833526026036e-74)"
      ]
     },
     "execution_count": 86,
     "metadata": {},
     "output_type": "execute_result"
    }
   ],
   "source": [
    "result = stats.levene(long, short)\n",
    "result"
   ]
  },
  {
   "cell_type": "code",
   "execution_count": 87,
   "id": "aa56c70c",
   "metadata": {},
   "outputs": [
    {
     "data": {
      "text/plain": [
       "Ttest_indResult(statistic=16.398007809768263, pvalue=1.1577299601419766e-56)"
      ]
     },
     "execution_count": 87,
     "metadata": {},
     "output_type": "execute_result"
    }
   ],
   "source": [
    "# Independent t-test with equal_var set to False\n",
    "result_ttest = stats.ttest_ind(long, short, equal_var = False)\n",
    "result_ttest"
   ]
  },
  {
   "cell_type": "markdown",
   "id": "90f829e5",
   "metadata": {},
   "source": [
    "We reject the NH and accept the AH, that runtime, does affect the revenue totals of movies, and we can also conclude that movies longer than the mean tend to earn more than those shorter"
   ]
  },
  {
   "cell_type": "markdown",
   "id": "1316ac61",
   "metadata": {},
   "source": [
    "### Question 3: Does a MPAA rating affect the number of votes a movie receives?"
   ]
  },
  {
   "cell_type": "markdown",
   "id": "95d9c1aa",
   "metadata": {},
   "source": [
    "NH: Voting is independent of movie rating, and makes no impact.\n",
    "\n",
    "AH: Movie rating plays a role in the voting behavior of the public. \n",
    "\n",
    "alpha = 0.05\n",
    "\n",
    "ANOVA\n",
    "\n",
    "\n"
   ]
  },
  {
   "cell_type": "code",
   "execution_count": 88,
   "id": "2dbac337",
   "metadata": {},
   "outputs": [
    {
     "data": {
      "text/plain": [
       "dict_keys(['PG-13', 'R', 'PG', 'NR', 'G', 'NC-17', 'R ', 'PG-13 ', '10', 'Unrated'])"
      ]
     },
     "execution_count": 88,
     "metadata": {},
     "output_type": "execute_result"
    }
   ],
   "source": [
    "groups = {}\n",
    "## Loop through all unique categories\n",
    "for i in df_combined['certification'].unique():\n",
    "    ## Get series for group and rename\n",
    "    data = df_combined.loc[df_combined['certification']==i,'vote_count'].copy()\n",
    "    \n",
    "    # save into the dictionary\n",
    "    groups[i] = data\n",
    "groups.keys()"
   ]
  },
  {
   "cell_type": "code",
   "execution_count": 89,
   "id": "ab9b6f66",
   "metadata": {},
   "outputs": [
    {
     "data": {
      "text/plain": [
       "LeveneResult(statistic=32.69570055042122, pvalue=4.387235928307552e-56)"
      ]
     },
     "execution_count": 89,
     "metadata": {},
     "output_type": "execute_result"
    }
   ],
   "source": [
    "stats.levene(*groups.values()) #check for equal variance"
   ]
  },
  {
   "cell_type": "code",
   "execution_count": 90,
   "id": "cfff9ac5",
   "metadata": {},
   "outputs": [
    {
     "data": {
      "text/plain": [
       "F_onewayResult(statistic=33.47841262513405, pvalue=1.7609186821363564e-57)"
      ]
     },
     "execution_count": 90,
     "metadata": {},
     "output_type": "execute_result"
    }
   ],
   "source": [
    "result = stats.f_oneway(*groups.values())\n",
    "result"
   ]
  },
  {
   "cell_type": "code",
   "execution_count": 91,
   "id": "562c6576",
   "metadata": {},
   "outputs": [],
   "source": [
    "## save the values as kg_lost and the labels to the Diet\n",
    "values = df_combined['vote_count']\n",
    "labels = df_combined['certification']"
   ]
  },
  {
   "cell_type": "code",
   "execution_count": 92,
   "id": "508c1a9a",
   "metadata": {},
   "outputs": [
    {
     "data": {
      "text/html": [
       "<table class=\"simpletable\">\n",
       "<caption>Multiple Comparison of Means - Tukey HSD, FWER=0.05</caption>\n",
       "<tr>\n",
       "  <th>group1</th> <th>group2</th>   <th>meandiff</th>   <th>p-adj</th>    <th>lower</th>       <th>upper</th>   <th>reject</th>\n",
       "</tr>\n",
       "<tr>\n",
       "    <td>10</td>      <td>G</td>     <td>159.9835</td>    <td>1.0</td>  <td>-7305.2883</td>   <td>7625.2552</td>  <td>False</td>\n",
       "</tr>\n",
       "<tr>\n",
       "    <td>10</td>    <td>NC-17</td>   <td>125.6607</td>    <td>1.0</td>  <td>-7375.0395</td>   <td>7626.3609</td>  <td>False</td>\n",
       "</tr>\n",
       "<tr>\n",
       "    <td>10</td>     <td>NR</td>      <td>50.1508</td>    <td>1.0</td>  <td>-7387.5418</td>   <td>7487.8434</td>  <td>False</td>\n",
       "</tr>\n",
       "<tr>\n",
       "    <td>10</td>     <td>PG</td>     <td>1012.4851</td>   <td>1.0</td>  <td>-6431.3239</td>   <td>8456.2941</td>  <td>False</td>\n",
       "</tr>\n",
       "<tr>\n",
       "    <td>10</td>    <td>PG-13</td>   <td>1777.6542</td> <td>0.9991</td> <td>-5661.0521</td>   <td>9216.3604</td>  <td>False</td>\n",
       "</tr>\n",
       "<tr>\n",
       "    <td>10</td>   <td>PG-13 </td>     <td>126.0</td>     <td>1.0</td>  <td>-10388.1311</td> <td>10640.1311</td>  <td>False</td>\n",
       "</tr>\n",
       "<tr>\n",
       "    <td>10</td>      <td>R</td>     <td>890.9599</td>    <td>1.0</td>  <td>-6546.0194</td>   <td>8327.9392</td>  <td>False</td>\n",
       "</tr>\n",
       "<tr>\n",
       "    <td>10</td>     <td>R </td>      <td>3560.0</td>   <td>0.9874</td> <td>-6954.1311</td>  <td>14074.1311</td>  <td>False</td>\n",
       "</tr>\n",
       "<tr>\n",
       "    <td>10</td>   <td>Unrated</td>    <td>-25.5</td>     <td>1.0</td>  <td>-8337.6505</td>   <td>8286.6505</td>  <td>False</td>\n",
       "</tr>\n",
       "<tr>\n",
       "     <td>G</td>    <td>NC-17</td>   <td>-34.3228</td>    <td>1.0</td>  <td>-1235.9183</td>   <td>1167.2728</td>  <td>False</td>\n",
       "</tr>\n",
       "<tr>\n",
       "     <td>G</td>     <td>NR</td>     <td>-109.8327</td>   <td>1.0</td>   <td>-818.7753</td>    <td>599.11</td>    <td>False</td>\n",
       "</tr>\n",
       "<tr>\n",
       "     <td>G</td>     <td>PG</td>     <td>852.5017</td>  <td>0.0168</td>   <td>82.0336</td>    <td>1622.9698</td>  <td>True</td> \n",
       "</tr>\n",
       "<tr>\n",
       "     <td>G</td>    <td>PG-13</td>   <td>1617.6707</td>   <td>0.0</td>   <td>898.1713</td>    <td>2337.1702</td>  <td>True</td> \n",
       "</tr>\n",
       "<tr>\n",
       "     <td>G</td>   <td>PG-13 </td>   <td>-33.9835</td>    <td>1.0</td>  <td>-7499.2552</td>   <td>7431.2883</td>  <td>False</td>\n",
       "</tr>\n",
       "<tr>\n",
       "     <td>G</td>      <td>R</td>     <td>730.9764</td>  <td>0.0331</td>   <td>29.557</td>     <td>1432.3959</td>  <td>True</td> \n",
       "</tr>\n",
       "<tr>\n",
       "     <td>G</td>     <td>R </td>     <td>3400.0165</td> <td>0.9141</td> <td>-4065.2552</td>  <td>10865.2883</td>  <td>False</td>\n",
       "</tr>\n",
       "<tr>\n",
       "     <td>G</td>   <td>Unrated</td>  <td>-185.4835</td>   <td>1.0</td>  <td>-3963.7337</td>   <td>3592.7668</td>  <td>False</td>\n",
       "</tr>\n",
       "<tr>\n",
       "   <td>NC-17</td>   <td>NR</td>     <td>-75.5099</td>    <td>1.0</td>  <td>-1091.7877</td>   <td>940.7678</td>   <td>False</td>\n",
       "</tr>\n",
       "<tr>\n",
       "   <td>NC-17</td>   <td>PG</td>     <td>886.8244</td>  <td>0.1958</td>  <td>-173.2897</td>   <td>1946.9385</td>  <td>False</td>\n",
       "</tr>\n",
       "<tr>\n",
       "   <td>NC-17</td>  <td>PG-13</td>   <td>1651.9935</td>   <td>0.0</td>   <td>628.3235</td>    <td>2675.6635</td>  <td>True</td> \n",
       "</tr>\n",
       "<tr>\n",
       "   <td>NC-17</td> <td>PG-13 </td>    <td>0.3393</td>     <td>1.0</td>  <td>-7500.3609</td>   <td>7501.0395</td>  <td>False</td>\n",
       "</tr>\n",
       "<tr>\n",
       "   <td>NC-17</td>    <td>R</td>     <td>765.2992</td>  <td>0.3283</td>  <td>-245.7448</td>   <td>1776.3432</td>  <td>False</td>\n",
       "</tr>\n",
       "<tr>\n",
       "   <td>NC-17</td>   <td>R </td>     <td>3434.3393</td> <td>0.9114</td> <td>-4066.3609</td>  <td>10935.0395</td>  <td>False</td>\n",
       "</tr>\n",
       "<tr>\n",
       "   <td>NC-17</td> <td>Unrated</td>  <td>-151.1607</td>   <td>1.0</td>  <td>-3998.9387</td>   <td>3696.6173</td>  <td>False</td>\n",
       "</tr>\n",
       "<tr>\n",
       "    <td>NR</td>     <td>PG</td>     <td>962.3344</td>    <td>0.0</td>   <td>535.0059</td>    <td>1389.6628</td>  <td>True</td> \n",
       "</tr>\n",
       "<tr>\n",
       "    <td>NR</td>    <td>PG-13</td>   <td>1727.5034</td>  <td>-0.0</td>   <td>1400.9028</td>   <td>2054.104</td>   <td>True</td> \n",
       "</tr>\n",
       "<tr>\n",
       "    <td>NR</td>   <td>PG-13 </td>    <td>75.8492</td>    <td>1.0</td>  <td>-7361.8434</td>   <td>7513.5418</td>  <td>False</td>\n",
       "</tr>\n",
       "<tr>\n",
       "    <td>NR</td>      <td>R</td>     <td>840.8091</td>   <td>-0.0</td>   <td>556.2433</td>    <td>1125.375</td>   <td>True</td> \n",
       "</tr>\n",
       "<tr>\n",
       "    <td>NR</td>     <td>R </td>     <td>3509.8492</td>  <td>0.895</td> <td>-3927.8434</td>  <td>10947.5418</td>  <td>False</td>\n",
       "</tr>\n",
       "<tr>\n",
       "    <td>NR</td>   <td>Unrated</td>  <td>-75.6508</td>    <td>1.0</td>   <td>-3799.112</td>   <td>3647.8104</td>  <td>False</td>\n",
       "</tr>\n",
       "<tr>\n",
       "    <td>PG</td>    <td>PG-13</td>    <td>765.169</td>    <td>0.0</td>   <td>320.5463</td>    <td>1209.7918</td>  <td>True</td> \n",
       "</tr>\n",
       "<tr>\n",
       "    <td>PG</td>   <td>PG-13 </td>   <td>-886.4851</td>   <td>1.0</td>  <td>-8330.2941</td>   <td>6557.3239</td>  <td>False</td>\n",
       "</tr>\n",
       "<tr>\n",
       "    <td>PG</td>      <td>R</td>     <td>-121.5253</td> <td>0.9956</td>  <td>-536.2531</td>   <td>293.2026</td>   <td>False</td>\n",
       "</tr>\n",
       "<tr>\n",
       "    <td>PG</td>     <td>R </td>     <td>2547.5149</td> <td>0.9864</td> <td>-4896.2941</td>   <td>9991.3239</td>  <td>False</td>\n",
       "</tr>\n",
       "<tr>\n",
       "    <td>PG</td>   <td>Unrated</td> <td>-1037.9851</td> <td>0.9971</td>  <td>-4773.649</td>   <td>2697.6787</td>  <td>False</td>\n",
       "</tr>\n",
       "<tr>\n",
       "   <td>PG-13</td> <td>PG-13 </td>  <td>-1651.6542</td> <td>0.9995</td> <td>-9090.3604</td>   <td>5787.0521</td>  <td>False</td>\n",
       "</tr>\n",
       "<tr>\n",
       "   <td>PG-13</td>    <td>R</td>     <td>-886.6943</td>  <td>-0.0</td>  <td>-1196.6257</td>   <td>-576.7628</td>  <td>True</td> \n",
       "</tr>\n",
       "<tr>\n",
       "   <td>PG-13</td>   <td>R </td>     <td>1782.3458</td> <td>0.9991</td> <td>-5656.3604</td>   <td>9221.0521</td>  <td>False</td>\n",
       "</tr>\n",
       "<tr>\n",
       "   <td>PG-13</td> <td>Unrated</td> <td>-1803.1542</td> <td>0.8794</td> <td>-5528.6398</td>   <td>1922.3314</td>  <td>False</td>\n",
       "</tr>\n",
       "<tr>\n",
       "  <td>PG-13 </td>    <td>R</td>     <td>764.9599</td>    <td>1.0</td>  <td>-6672.0194</td>   <td>8201.9392</td>  <td>False</td>\n",
       "</tr>\n",
       "<tr>\n",
       "  <td>PG-13 </td>   <td>R </td>      <td>3434.0</td>   <td>0.9902</td> <td>-7080.1311</td>  <td>13948.1311</td>  <td>False</td>\n",
       "</tr>\n",
       "<tr>\n",
       "  <td>PG-13 </td> <td>Unrated</td>   <td>-151.5</td>     <td>1.0</td>  <td>-8463.6505</td>   <td>8160.6505</td>  <td>False</td>\n",
       "</tr>\n",
       "<tr>\n",
       "     <td>R</td>     <td>R </td>     <td>2669.0401</td>  <td>0.981</td> <td>-4767.9392</td>  <td>10106.0194</td>  <td>False</td>\n",
       "</tr>\n",
       "<tr>\n",
       "     <td>R</td>   <td>Unrated</td>  <td>-916.4599</td> <td>0.9989</td>  <td>-4638.496</td>   <td>2805.5762</td>  <td>False</td>\n",
       "</tr>\n",
       "<tr>\n",
       "    <td>R </td>   <td>Unrated</td>   <td>-3585.5</td>  <td>0.9376</td> <td>-11897.6505</td>  <td>4726.6505</td>  <td>False</td>\n",
       "</tr>\n",
       "</table>"
      ],
      "text/plain": [
       "<class 'statsmodels.iolib.table.SimpleTable'>"
      ]
     },
     "execution_count": 92,
     "metadata": {},
     "output_type": "execute_result"
    }
   ],
   "source": [
    "tukeys_results = pairwise_tukeyhsd(values,labels)\n",
    "tukeys_results.summary()"
   ]
  },
  {
   "cell_type": "markdown",
   "id": "9783b376",
   "metadata": {},
   "source": [
    "We reject the NH and accept the NH, so vote count is impacted by the MPAA rating of a movie."
   ]
  },
  {
   "cell_type": "code",
   "execution_count": null,
   "id": "3c04df5e",
   "metadata": {},
   "outputs": [],
   "source": []
  }
 ],
 "metadata": {
  "kernelspec": {
   "display_name": "Python (dojo-env)",
   "language": "python",
   "name": "dojo-env"
  },
  "language_info": {
   "codemirror_mode": {
    "name": "ipython",
    "version": 3
   },
   "file_extension": ".py",
   "mimetype": "text/x-python",
   "name": "python",
   "nbconvert_exporter": "python",
   "pygments_lexer": "ipython3",
   "version": "3.8.13"
  },
  "toc": {
   "base_numbering": 1,
   "nav_menu": {},
   "number_sections": true,
   "sideBar": true,
   "skip_h1_title": false,
   "title_cell": "Table of Contents",
   "title_sidebar": "Contents",
   "toc_cell": false,
   "toc_position": {},
   "toc_section_display": true,
   "toc_window_display": false
  }
 },
 "nbformat": 4,
 "nbformat_minor": 5
}
